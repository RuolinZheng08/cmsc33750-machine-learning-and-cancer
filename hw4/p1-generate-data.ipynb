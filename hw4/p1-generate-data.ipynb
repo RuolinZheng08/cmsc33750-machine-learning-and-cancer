{
 "cells": [
  {
   "cell_type": "code",
   "execution_count": 18,
   "metadata": {},
   "outputs": [],
   "source": [
    "import numpy as np\n",
    "from keras.layers import Input, Dense, Dropout, Activation, Conv1D, MaxPooling1D, Flatten\n",
    "from keras.optimizers import SGD, Adam, RMSprop\n",
    "from keras.models import Sequential, Model, model_from_json, model_from_yaml\n",
    "from keras.utils import np_utils\n",
    "from keras.callbacks import ModelCheckpoint, CSVLogger, ReduceLROnPlateau\n",
    "\n",
    "from sklearn.metrics import accuracy_score"
   ]
  },
  {
   "cell_type": "code",
   "execution_count": 22,
   "metadata": {},
   "outputs": [],
   "source": [
    "MODEL = 'type-class/tc1.autosave.model.h5'\n",
    "DATA_DIR = 'data/'\n",
    "NT_TRAIN = 'nt_train.npy'\n",
    "NT_TEST = 'nt_test.npy'\n",
    "NT_TRAIN_LABELS = 'nt_train_labels.npy'\n",
    "NT_TEST_LABELS = 'nt_test.labels.npy'\n",
    "TC_TRAIN = 'tc_train.npy'\n",
    "TC_TEST = 'tc_test.npy'\n",
    "TC_TRAIN_LABELS = 'tc_train_labels.npy'\n",
    "TC_TEST_LABELS = 'tc_test_labels.npy'\n",
    "\n",
    "EPOCH = 400\n",
    "BATCH = 20\n",
    "CLASSES = 36\n",
    "\n",
    "PL = 60484   # 1 + 60483 these are the width of the RNAseq datasets\n",
    "P     = 60483   # 60483\n",
    "DR    = 0.1      # Dropout rate"
   ]
  },
  {
   "cell_type": "code",
   "execution_count": 13,
   "metadata": {},
   "outputs": [
    {
     "name": "stdout",
     "output_type": "stream",
     "text": [
      "Model: \"sequential_3\"\n",
      "_________________________________________________________________\n",
      "Layer (type)                 Output Shape              Param #   \n",
      "=================================================================\n",
      "conv1d_4 (Conv1D)            (None, 60464, 128)        2688      \n",
      "_________________________________________________________________\n",
      "activation_10 (Activation)   (None, 60464, 128)        0         \n",
      "_________________________________________________________________\n",
      "max_pooling1d_4 (MaxPooling1 (None, 60464, 128)        0         \n",
      "_________________________________________________________________\n",
      "conv1d_5 (Conv1D)            (None, 60455, 128)        163968    \n",
      "_________________________________________________________________\n",
      "activation_11 (Activation)   (None, 60455, 128)        0         \n",
      "_________________________________________________________________\n",
      "max_pooling1d_5 (MaxPooling1 (None, 6045, 128)         0         \n",
      "_________________________________________________________________\n",
      "flatten_2 (Flatten)          (None, 773760)            0         \n",
      "_________________________________________________________________\n",
      "dense_6 (Dense)              (None, 200)               154752200 \n",
      "_________________________________________________________________\n",
      "activation_12 (Activation)   (None, 200)               0         \n",
      "_________________________________________________________________\n",
      "dropout_4 (Dropout)          (None, 200)               0         \n",
      "_________________________________________________________________\n",
      "dense_7 (Dense)              (None, 20)                4020      \n",
      "_________________________________________________________________\n",
      "activation_13 (Activation)   (None, 20)                0         \n",
      "_________________________________________________________________\n",
      "dropout_5 (Dropout)          (None, 20)                0         \n",
      "_________________________________________________________________\n",
      "dense_8 (Dense)              (None, 36)                756       \n",
      "_________________________________________________________________\n",
      "activation_14 (Activation)   (None, 36)                0         \n",
      "=================================================================\n",
      "Total params: 154,923,632\n",
      "Trainable params: 154,923,632\n",
      "Non-trainable params: 0\n",
      "_________________________________________________________________\n"
     ]
    }
   ],
   "source": [
    "model = Sequential()\n",
    "model.add(Conv1D(filters=128, kernel_size=20, strides=1, padding='valid', input_shape=(P, 1)))\n",
    "model.add(Activation('relu'))\n",
    "model.add(MaxPooling1D(pool_size=1))\n",
    "model.add(Conv1D(filters=128, kernel_size=10, strides=1, padding='valid'))\n",
    "model.add(Activation('relu'))\n",
    "model.add(MaxPooling1D(pool_size=10))\n",
    "model.add(Flatten())\n",
    "model.add(Dense(200))\n",
    "model.add(Activation('relu'))\n",
    "model.add(Dropout(0.1))\n",
    "model.add(Dense(20))\n",
    "model.add(Activation('relu'))\n",
    "model.add(Dropout(0.1))\n",
    "model.add(Dense(CLASSES))\n",
    "model.add(Activation('softmax'))\n",
    "\n",
    "model.summary()\n",
    "\n",
    "model.compile(loss='categorical_crossentropy',\n",
    "              optimizer=SGD(),\n",
    "              metrics=['accuracy'])\n",
    "\n",
    "model.load_weights(TC_DIR + MODEL)"
   ]
  },
  {
   "cell_type": "code",
   "execution_count": null,
   "metadata": {},
   "outputs": [],
   "source": [
    "nt_train = np.load(DATA_DIR + NT_TRAIN)\n",
    "nt_test = np.load(DATA_DIR + NT_TEST)\n",
    "nt_train_labels = np.load(DATA_DIR + NT_TRAIN_LABELS)\n",
    "nt_test_labels = np.load(DATA_DIR + NT_TEST_LABELS)"
   ]
  }
 ],
 "metadata": {
  "kernelspec": {
   "display_name": "py38",
   "language": "python",
   "name": "py38"
  },
  "language_info": {
   "codemirror_mode": {
    "name": "ipython",
    "version": 3
   },
   "file_extension": ".py",
   "mimetype": "text/x-python",
   "name": "python",
   "nbconvert_exporter": "python",
   "pygments_lexer": "ipython3",
   "version": "3.8.5"
  }
 },
 "nbformat": 4,
 "nbformat_minor": 4
}
