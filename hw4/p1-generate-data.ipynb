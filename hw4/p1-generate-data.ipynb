{
 "cells": [
  {
   "cell_type": "code",
   "execution_count": 23,
   "metadata": {},
   "outputs": [
    {
     "name": "stdout",
     "output_type": "stream",
     "text": [
      "Model: \"sequential_4\"\n",
      "_________________________________________________________________\n",
      "Layer (type)                 Output Shape              Param #   \n",
      "=================================================================\n",
      "conv1d_6 (Conv1D)            (None, 60464, 128)        2688      \n",
      "_________________________________________________________________\n",
      "activation_15 (Activation)   (None, 60464, 128)        0         \n",
      "_________________________________________________________________\n",
      "max_pooling1d_6 (MaxPooling1 (None, 60464, 128)        0         \n",
      "_________________________________________________________________\n",
      "conv1d_7 (Conv1D)            (None, 60455, 128)        163968    \n",
      "_________________________________________________________________\n",
      "activation_16 (Activation)   (None, 60455, 128)        0         \n",
      "_________________________________________________________________\n",
      "max_pooling1d_7 (MaxPooling1 (None, 6045, 128)         0         \n",
      "_________________________________________________________________\n",
      "flatten_3 (Flatten)          (None, 773760)            0         \n",
      "_________________________________________________________________\n",
      "dense_9 (Dense)              (None, 200)               154752200 \n",
      "_________________________________________________________________\n",
      "activation_17 (Activation)   (None, 200)               0         \n",
      "_________________________________________________________________\n",
      "dropout_6 (Dropout)          (None, 200)               0         \n",
      "_________________________________________________________________\n",
      "dense_10 (Dense)             (None, 20)                4020      \n",
      "_________________________________________________________________\n",
      "activation_18 (Activation)   (None, 20)                0         \n",
      "_________________________________________________________________\n",
      "dropout_7 (Dropout)          (None, 20)                0         \n",
      "_________________________________________________________________\n",
      "dense_11 (Dense)             (None, 36)                756       \n",
      "_________________________________________________________________\n",
      "activation_19 (Activation)   (None, 36)                0         \n",
      "=================================================================\n",
      "Total params: 154,923,632\n",
      "Trainable params: 154,923,632\n",
      "Non-trainable params: 0\n",
      "_________________________________________________________________\n"
     ]
    }
   ],
   "source": [
    "import numpy as np\n",
    "from keras.layers import Input, Dense, Dropout, Activation, Conv1D, MaxPooling1D, Flatten\n",
    "from keras.optimizers import SGD, Adam, RMSprop\n",
    "from keras.models import Sequential, Model, model_from_json, model_from_yaml\n",
    "from keras.utils import np_utils\n",
    "from keras.callbacks import ModelCheckpoint, CSVLogger, ReduceLROnPlateau\n",
    "\n",
    "from sklearn.metrics import accuracy_score\n",
    "\n",
    "MODEL = 'type-class/tc1.autosave.model.h5'\n",
    "DATA_DIR = 'data/'\n",
    "NT_TRAIN = 'nt_train.npy'\n",
    "NT_TEST = 'nt_test.npy'\n",
    "NT_TRAIN_LABELS = 'nt_train_labels.npy'\n",
    "NT_TEST_LABELS = 'nt_test_labels.npy'\n",
    "TC_TRAIN = 'tc_train.npy'\n",
    "TC_TEST = 'tc_test.npy'\n",
    "TC_TRAIN_LABELS = 'tc_train_labels.npy'\n",
    "TC_TEST_LABELS = 'tc_test_labels.npy'\n",
    "\n",
    "EPOCH = 400\n",
    "BATCH = 20\n",
    "CLASSES = 36\n",
    "\n",
    "PL = 60484   # 1 + 60483 these are the width of the RNAseq datasets\n",
    "P     = 60483   # 60483\n",
    "DR    = 0.1      # Dropout rate\n",
    "\n",
    "model = Sequential()\n",
    "model.add(Conv1D(filters=128, kernel_size=20, strides=1, padding='valid', input_shape=(P, 1)))\n",
    "model.add(Activation('relu'))\n",
    "model.add(MaxPooling1D(pool_size=1))\n",
    "model.add(Conv1D(filters=128, kernel_size=10, strides=1, padding='valid'))\n",
    "model.add(Activation('relu'))\n",
    "model.add(MaxPooling1D(pool_size=10))\n",
    "model.add(Flatten())\n",
    "model.add(Dense(200))\n",
    "model.add(Activation('relu'))\n",
    "model.add(Dropout(0.1))\n",
    "model.add(Dense(20))\n",
    "model.add(Activation('relu'))\n",
    "model.add(Dropout(0.1))\n",
    "model.add(Dense(CLASSES))\n",
    "model.add(Activation('softmax'))\n",
    "\n",
    "model.summary()\n",
    "\n",
    "model.compile(loss='categorical_crossentropy',\n",
    "              optimizer=SGD(),\n",
    "              metrics=['accuracy'])\n",
    "\n",
    "model.load_weights(MODEL)\n",
    "\n",
    "nt_train = np.load(DATA_DIR + NT_TRAIN)\n",
    "nt_test = np.load(DATA_DIR + NT_TEST)\n",
    "# nt_train_labels = np.load(DATA_DIR + NT_TRAIN_LABELS)\n",
    "# nt_test_labels = np.load(DATA_DIR + NT_TEST_LABELS)\n",
    "\n",
    "nt_train_tc_labels = model.predict(nt_train)\n",
    "nt_test_tc_labels = model.predict(nt_test)\n",
    "\n",
    "np.save(DATA_DIR + 'nt_train_tc_labels', nt_train_tc_labels)\n",
    "np.save(DATA_DIR + 'nt_test_tc_labels', nt_test_tc_labels)\n"
   ]
  },
  {
   "cell_type": "code",
   "execution_count": 24,
   "metadata": {},
   "outputs": [
    {
     "name": "stdout",
     "output_type": "stream",
     "text": [
      "Test score: 0.13575738668441772\n",
      "Test accuracy: 0.9657407402992249\n"
     ]
    }
   ],
   "source": [
    "# baseline TC\n",
    "tc_test = np.load(DATA_DIR + TC_TEST)\n",
    "tc_test_labels = np.load(DATA_DIR + TC_TEST_LABELS)\n",
    "\n",
    "score = model.evaluate(tc_test, tc_test_labels, verbose=0)\n",
    "\n",
    "print('Test score:', score[0])\n",
    "print('Test accuracy:', score[1])"
   ]
  },
  {
   "cell_type": "code",
   "execution_count": null,
   "metadata": {},
   "outputs": [],
   "source": []
  }
 ],
 "metadata": {
  "kernelspec": {
   "display_name": "py38",
   "language": "python",
   "name": "py38"
  },
  "language_info": {
   "codemirror_mode": {
    "name": "ipython",
    "version": 3
   },
   "file_extension": ".py",
   "mimetype": "text/x-python",
   "name": "python",
   "nbconvert_exporter": "python",
   "pygments_lexer": "ipython3",
   "version": "3.8.5"
  }
 },
 "nbformat": 4,
 "nbformat_minor": 4
}
