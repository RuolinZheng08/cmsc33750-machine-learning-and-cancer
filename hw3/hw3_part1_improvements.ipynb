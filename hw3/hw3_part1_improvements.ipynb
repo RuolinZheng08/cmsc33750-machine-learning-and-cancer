{
 "cells": [
  {
   "cell_type": "code",
   "execution_count": 14,
   "metadata": {},
   "outputs": [],
   "source": [
    "import numpy as np\n",
    "import pandas as pd\n",
    "import seaborn as sns\n",
    "import matplotlib.pyplot as plt\n",
    "\n",
    "from IPython.display import display\n",
    "\n",
    "from sklearn import preprocessing\n",
    "from sklearn.decomposition import PCA\n",
    "from sklearn.linear_model import ElasticNet\n",
    "from sklearn.multiclass import OneVsOneClassifier\n",
    "from sklearn.neighbors import KNeighborsClassifier\n",
    "from sklearn.model_selection import cross_val_predict, cross_val_score\n",
    "from sklearn.metrics import accuracy_score, mean_squared_error, \\\n",
    "roc_auc_score"
   ]
  },
  {
   "cell_type": "code",
   "execution_count": 9,
   "metadata": {
    "scrolled": true
   },
   "outputs": [],
   "source": [
    "cell_line_df = pd.read_csv('data/cell_line.csv')"
   ]
  },
  {
   "cell_type": "code",
   "execution_count": 10,
   "metadata": {},
   "outputs": [],
   "source": [
    "drug_df = pd.read_csv('data/drug_df_quantized.csv')"
   ]
  },
  {
   "cell_type": "code",
   "execution_count": 11,
   "metadata": {},
   "outputs": [],
   "source": [
    "# for recording accuracy, mse, auc\n",
    "result_df = pd.DataFrame({\n",
    "    'drug_id': drug_df['drug_id'].unique(),\n",
    "})\n",
    "result_df['accuracy'] = np.nan\n",
    "result_df['mse'] = np.nan\n",
    "result_df['auc'] = np.nan"
   ]
  },
  {
   "cell_type": "code",
   "execution_count": 12,
   "metadata": {},
   "outputs": [
    {
     "data": {
      "text/html": [
       "<div>\n",
       "<style scoped>\n",
       "    .dataframe tbody tr th:only-of-type {\n",
       "        vertical-align: middle;\n",
       "    }\n",
       "\n",
       "    .dataframe tbody tr th {\n",
       "        vertical-align: top;\n",
       "    }\n",
       "\n",
       "    .dataframe thead th {\n",
       "        text-align: right;\n",
       "    }\n",
       "</style>\n",
       "<table border=\"1\" class=\"dataframe\">\n",
       "  <thead>\n",
       "    <tr style=\"text-align: right;\">\n",
       "      <th></th>\n",
       "      <th>drug_id</th>\n",
       "      <th>cell_line_id</th>\n",
       "      <th>log_IC50</th>\n",
       "      <th>sensitivity</th>\n",
       "    </tr>\n",
       "  </thead>\n",
       "  <tbody>\n",
       "    <tr>\n",
       "      <th>0</th>\n",
       "      <td>1</td>\n",
       "      <td>683665</td>\n",
       "      <td>2.44</td>\n",
       "      <td>resistant</td>\n",
       "    </tr>\n",
       "    <tr>\n",
       "      <th>1</th>\n",
       "      <td>1</td>\n",
       "      <td>684055</td>\n",
       "      <td>3.34</td>\n",
       "      <td>resistant</td>\n",
       "    </tr>\n",
       "    <tr>\n",
       "      <th>2</th>\n",
       "      <td>1</td>\n",
       "      <td>684057</td>\n",
       "      <td>3.57</td>\n",
       "      <td>resistant</td>\n",
       "    </tr>\n",
       "    <tr>\n",
       "      <th>3</th>\n",
       "      <td>1</td>\n",
       "      <td>684059</td>\n",
       "      <td>3.19</td>\n",
       "      <td>resistant</td>\n",
       "    </tr>\n",
       "    <tr>\n",
       "      <th>4</th>\n",
       "      <td>1</td>\n",
       "      <td>684062</td>\n",
       "      <td>2.46</td>\n",
       "      <td>resistant</td>\n",
       "    </tr>\n",
       "  </tbody>\n",
       "</table>\n",
       "</div>"
      ],
      "text/plain": [
       "   drug_id  cell_line_id  log_IC50 sensitivity\n",
       "0        1        683665      2.44   resistant\n",
       "1        1        684055      3.34   resistant\n",
       "2        1        684057      3.57   resistant\n",
       "3        1        684059      3.19   resistant\n",
       "4        1        684062      2.46   resistant"
      ]
     },
     "metadata": {},
     "output_type": "display_data"
    },
    {
     "data": {
      "text/html": [
       "<div>\n",
       "<style scoped>\n",
       "    .dataframe tbody tr th:only-of-type {\n",
       "        vertical-align: middle;\n",
       "    }\n",
       "\n",
       "    .dataframe tbody tr th {\n",
       "        vertical-align: top;\n",
       "    }\n",
       "\n",
       "    .dataframe thead th {\n",
       "        text-align: right;\n",
       "    }\n",
       "</style>\n",
       "<table border=\"1\" class=\"dataframe\">\n",
       "  <thead>\n",
       "    <tr style=\"text-align: right;\">\n",
       "      <th></th>\n",
       "      <th>drug_id</th>\n",
       "      <th>cell_line_id</th>\n",
       "      <th>log_IC50</th>\n",
       "      <th>sensitivity</th>\n",
       "    </tr>\n",
       "  </thead>\n",
       "  <tbody>\n",
       "    <tr>\n",
       "      <th>35157</th>\n",
       "      <td>165</td>\n",
       "      <td>1298531</td>\n",
       "      <td>6.09</td>\n",
       "      <td>intermediate</td>\n",
       "    </tr>\n",
       "    <tr>\n",
       "      <th>84670</th>\n",
       "      <td>255</td>\n",
       "      <td>1333014</td>\n",
       "      <td>4.87</td>\n",
       "      <td>resistant</td>\n",
       "    </tr>\n",
       "    <tr>\n",
       "      <th>64160</th>\n",
       "      <td>207</td>\n",
       "      <td>1290907</td>\n",
       "      <td>1.70</td>\n",
       "      <td>intermediate</td>\n",
       "    </tr>\n",
       "    <tr>\n",
       "      <th>102849</th>\n",
       "      <td>279</td>\n",
       "      <td>930301</td>\n",
       "      <td>4.16</td>\n",
       "      <td>intermediate</td>\n",
       "    </tr>\n",
       "    <tr>\n",
       "      <th>188636</th>\n",
       "      <td>1129</td>\n",
       "      <td>946355</td>\n",
       "      <td>3.36</td>\n",
       "      <td>intermediate</td>\n",
       "    </tr>\n",
       "  </tbody>\n",
       "</table>\n",
       "</div>"
      ],
      "text/plain": [
       "        drug_id  cell_line_id  log_IC50   sensitivity\n",
       "35157       165       1298531      6.09  intermediate\n",
       "84670       255       1333014      4.87     resistant\n",
       "64160       207       1290907      1.70  intermediate\n",
       "102849      279        930301      4.16  intermediate\n",
       "188636     1129        946355      3.36  intermediate"
      ]
     },
     "metadata": {},
     "output_type": "display_data"
    }
   ],
   "source": [
    "display(drug_df.head())\n",
    "display(drug_df.sample(n=5))"
   ]
  },
  {
   "cell_type": "markdown",
   "metadata": {},
   "source": [
    "# Part 1. Regression & Classification\n",
    "Quantize `log_IC50` into 3 bins: `sensitive, intermediate, resistant`. Call this column `sensitivity`.\n",
    "\n",
    "Reduce data dimensions using `PCA`. Use `n_components` that explains 80% of the variance.\n",
    "\n",
    "I used `Elastic Net` and `K-Nearest Neighbors`."
   ]
  },
  {
   "cell_type": "code",
   "execution_count": 7,
   "metadata": {},
   "outputs": [],
   "source": [
    "drug_df['predicted_log_IC50'] = np.nan\n",
    "drug_df['predicted_sensitivity'] = np.nan"
   ]
  },
  {
   "cell_type": "markdown",
   "metadata": {},
   "source": [
    "## Fit Models"
   ]
  },
  {
   "cell_type": "code",
   "execution_count": null,
   "metadata": {
    "scrolled": false
   },
   "outputs": [
    {
     "name": "stdout",
     "output_type": "stream",
     "text": [
      "Drug id: 1, MSE: 1.1486096282775498, accuracy: 0.601078167115903, AUC: 0.5733642678674391\n",
      "Drug id: 3, MSE: 4.485933707441746, accuracy: 0.5234159779614325, AUC: 0.6354409647387855\n",
      "Drug id: 5, MSE: 2.273761038102191, accuracy: 0.6090225563909775, AUC: 0.7250340787767865\n",
      "Drug id: 6, MSE: 0.8051275969950313, accuracy: 0.7076167076167076, AUC: 0.5345550739418664\n",
      "Drug id: 9, MSE: 2.057611450853563, accuracy: 0.5760598503740648, AUC: 0.5053938554990415\n",
      "Drug id: 11, MSE: 3.5238672371596995, accuracy: 0.5, AUC: 0.576338684930494\n",
      "Drug id: 17, MSE: 0.7874540705920942, accuracy: 0.45591939546599497, AUC: 0.5987245844842661\n",
      "Drug id: 29, MSE: 2.1051437528663177, accuracy: 0.5781637717121588, AUC: 0.7322242806758211\n",
      "Drug id: 30, MSE: 1.6404685703367836, accuracy: 0.551980198019802, AUC: 0.6860652906427555\n",
      "Drug id: 32, MSE: 3.8167783890852798, accuracy: 0.4746192893401015, AUC: 0.6214900008537158\n",
      "Drug id: 34, MSE: 0.8933498979194839, accuracy: 0.7321867321867321, AUC: 0.6357868881379852\n",
      "Drug id: 35, MSE: 2.2243300640632118, accuracy: 0.5862068965517241, AUC: 0.7176699821208491\n",
      "Drug id: 37, MSE: 1.0115671507874082, accuracy: 0.6280788177339901, AUC: 0.7065677978815975\n",
      "Drug id: 38, MSE: 1.248683523787534, accuracy: 0.6167076167076168, AUC: 0.596129814143854\n",
      "Drug id: 41, MSE: 2.2323076913434092, accuracy: 0.5175879396984925, AUC: 0.5866753559516626\n",
      "Drug id: 45, MSE: 1.4412570789538757, accuracy: 0.5839598997493735, AUC: 0.5571220900692171\n",
      "Drug id: 51, MSE: 4.451908479070913, accuracy: 0.5681818181818182, AUC: 0.6875394570707071\n",
      "Drug id: 52, MSE: 0.6493936025101628, accuracy: 0.5818639798488665, AUC: 0.6720621301242962\n",
      "Drug id: 53, MSE: 1.5792531218438242, accuracy: 0.5964912280701754, AUC: 0.6190180095748988\n",
      "Drug id: 54, MSE: 0.9749454000560179, accuracy: 0.5538847117794486, AUC: 0.6118474143610012\n",
      "Drug id: 55, MSE: 2.7981506031018326, accuracy: 0.565, AUC: 0.6512519197016234\n",
      "Drug id: 56, MSE: 3.8968380421605233, accuracy: 0.5642317380352645, AUC: 0.6745247902782149\n",
      "Drug id: 59, MSE: 0.9307302525177984, accuracy: 0.5764411027568922, AUC: 0.5889539244894101\n",
      "Drug id: 60, MSE: 2.5282540356969845, accuracy: 0.5477386934673367, AUC: 0.6156321759259259\n",
      "Drug id: 62, MSE: 2.672923963032311, accuracy: 0.58, AUC: 0.6131159426334346\n",
      "Drug id: 63, MSE: 1.1204501158618603, accuracy: 0.5275, AUC: 0.5301752289924333\n",
      "Drug id: 64, MSE: 1.4601129961987587, accuracy: 0.5137844611528822, AUC: 0.5368377269737062\n",
      "Drug id: 71, MSE: 2.0271001718846753, accuracy: 0.4626865671641791, AUC: 0.5439913930688555\n",
      "Drug id: 83, MSE: 3.4106865547835854, accuracy: 0.5298701298701298, AUC: 0.5651190805457939\n",
      "Drug id: 86, MSE: 2.0878367234477038, accuracy: 0.49874686716791977, AUC: 0.5436127744510978\n",
      "Drug id: 87, MSE: 3.1394510735529764, accuracy: 0.54, AUC: 0.6174955747342955\n",
      "Drug id: 88, MSE: 2.2525723671498166, accuracy: 0.5760598503740648, AUC: 0.5748379356333903\n",
      "Drug id: 89, MSE: 1.3192358065297134, accuracy: 0.47642679900744417, AUC: 0.5735223663482797\n",
      "Drug id: 91, MSE: 0.33587753173479495, accuracy: 0.6823821339950372, AUC: 0.633949296042618\n",
      "Drug id: 94, MSE: 0.9565030290809841, accuracy: 0.5985037406483791, AUC: 0.6476580252014047\n",
      "Drug id: 104, MSE: 2.283376773143753, accuracy: 0.600997506234414, AUC: 0.621911109456256\n",
      "Drug id: 106, MSE: 1.1320180956943648, accuracy: 0.6231155778894473, AUC: 0.6622465205617482\n",
      "Drug id: 110, MSE: 0.8998160216159531, accuracy: 0.49622166246851385, AUC: 0.5488188452114627\n",
      "Drug id: 111, MSE: 1.0426603141966497, accuracy: 0.5939849624060151, AUC: 0.6353857784095541\n",
      "Drug id: 119, MSE: 0.9854093908193629, accuracy: 0.7581863979848866, AUC: 0.7344971458978327\n",
      "Drug id: 127, MSE: 1.7789843684973528, accuracy: 0.5682382133995038, AUC: 0.5795625712058524\n",
      "Drug id: 133, MSE: 2.5911582985171515, accuracy: 0.5057339449541285, AUC: 0.5464950171577093\n",
      "Drug id: 134, MSE: 3.447323340705735, accuracy: 0.6077097505668935, AUC: 0.5702299910434105\n",
      "Drug id: 135, MSE: 6.373094535366942, accuracy: 0.4532871972318339, AUC: 0.5783346104478702\n",
      "Drug id: 136, MSE: 2.2748655661668415, accuracy: 0.565864833906071, AUC: 0.6200182845735512\n",
      "Drug id: 140, MSE: 2.3865961358544325, accuracy: 0.4931972789115646, AUC: 0.5712057045512396\n",
      "Drug id: 147, MSE: 0.7200970321933033, accuracy: 0.5974914481185861, AUC: 0.5825007537839957\n",
      "Drug id: 150, MSE: 0.25630789276976673, accuracy: 0.7761194029850746, AUC: 0.5946677098747247\n",
      "Drug id: 151, MSE: 1.731178463661252, accuracy: 0.536697247706422, AUC: 0.5842857686760268\n",
      "Drug id: 152, MSE: 1.413634819171066, accuracy: 0.6796536796536796, AUC: 0.7065361291925907\n",
      "Drug id: 153, MSE: 1.3770980099985053, accuracy: 0.6065759637188208, AUC: 0.6143164454798343\n",
      "Drug id: 154, MSE: 0.7888706816495883, accuracy: 0.5756541524459613, AUC: 0.6282296481377297\n",
      "Drug id: 155, MSE: 2.013775630056481, accuracy: 0.6083995459704881, AUC: 0.6848246253998541\n",
      "Drug id: 156, MSE: 1.6087357625047711, accuracy: 0.5655644241733181, AUC: 0.5699362732653158\n",
      "Drug id: 157, MSE: 1.0598099209526128, accuracy: 0.5561861520998865, AUC: 0.5889639762434392\n",
      "Drug id: 158, MSE: 1.0485009056371652, accuracy: 0.6763005780346821, AUC: 0.5418010694228622\n",
      "Drug id: 159, MSE: 2.173074998492079, accuracy: 0.7354618015963512, AUC: 0.64135856849544\n",
      "Drug id: 163, MSE: 2.131868872607847, accuracy: 0.5675368898978433, AUC: 0.5684261069662444\n",
      "Drug id: 164, MSE: 2.5831338155260153, accuracy: 0.6091428571428571, AUC: 0.5687560846394021\n",
      "Drug id: 165, MSE: 1.6994341753581752, accuracy: 0.6674259681093394, AUC: 0.6434215775479506\n",
      "Drug id: 166, MSE: 0.5706739202607806, accuracy: 0.7003405221339387, AUC: 0.5752158527954706\n",
      "Drug id: 167, MSE: 1.3914338198758243, accuracy: 0.6142365097588978, AUC: 0.5631757323081391\n",
      "Drug id: 170, MSE: 1.6548795696948524, accuracy: 0.6526195899772209, AUC: 0.6110579378788387\n",
      "Drug id: 171, MSE: 0.9922209709700359, accuracy: 0.5353075170842825, AUC: 0.5731384140672678\n",
      "Drug id: 172, MSE: 0.9731311882495706, accuracy: 0.5315005727376861, AUC: 0.5955143549455045\n",
      "Drug id: 173, MSE: 1.3660716238641062, accuracy: 0.7341772151898734, AUC: 0.6343584107318175\n",
      "Drug id: 175, MSE: 1.2221186903155443, accuracy: 0.5011627906976744, AUC: 0.6171354613133747\n",
      "Drug id: 176, MSE: 2.08598624874323, accuracy: 0.4592422502870264, AUC: 0.6171098130002513\n",
      "Drug id: 177, MSE: 2.4276890524694377, accuracy: 0.5515643105446119, AUC: 0.5423500119774823\n",
      "Drug id: 178, MSE: 1.874839490013069, accuracy: 0.6110471806674338, AUC: 0.6173964964002477\n",
      "Drug id: 179, MSE: 2.290048303097013, accuracy: 0.6010928961748634, AUC: 0.6823968781026393\n",
      "Drug id: 180, MSE: 3.6083654989997105, accuracy: 0.513986013986014, AUC: 0.583807389146849\n",
      "Drug id: 182, MSE: 2.4749193803669027, accuracy: 0.576878612716763, AUC: 0.598057803419381\n",
      "Drug id: 184, MSE: 2.507489802862187, accuracy: 0.5737327188940092, AUC: 0.6103700204771719\n",
      "Drug id: 185, MSE: 1.8716096179389228, accuracy: 0.5483870967741935, AUC: 0.6256490715302426\n"
     ]
    },
    {
     "name": "stderr",
     "output_type": "stream",
     "text": [
      "/usr/local/lib/python3.5/dist-packages/sklearn/model_selection/_split.py:667: UserWarning: The least populated class in y has only 3 members, which is less than n_splits=5.\n",
      "  % (min_groups, self.n_splits)), UserWarning)\n",
      "/usr/local/lib/python3.5/dist-packages/sklearn/model_selection/_split.py:667: UserWarning: The least populated class in y has only 3 members, which is less than n_splits=5.\n",
      "  % (min_groups, self.n_splits)), UserWarning)\n"
     ]
    },
    {
     "name": "stdout",
     "output_type": "stream",
     "text": [
      "Drug id: 186, MSE: 1.090374165073956, accuracy: 0.6686046511627907, AUC: 0.637772287159344\n",
      "Drug id: 190, MSE: 4.731712081209839, accuracy: 0.47337962962962965, AUC: 0.5752567673401968\n",
      "Drug id: 192, MSE: 0.5171289545949117, accuracy: 0.7508610792192881, AUC: 0.5723677883001653\n"
     ]
    },
    {
     "name": "stderr",
     "output_type": "stream",
     "text": [
      "/usr/local/lib/python3.5/dist-packages/sklearn/model_selection/_split.py:667: UserWarning: The least populated class in y has only 1 members, which is less than n_splits=5.\n",
      "  % (min_groups, self.n_splits)), UserWarning)\n",
      "/usr/local/lib/python3.5/dist-packages/sklearn/model_selection/_split.py:667: UserWarning: The least populated class in y has only 1 members, which is less than n_splits=5.\n",
      "  % (min_groups, self.n_splits)), UserWarning)\n",
      "/usr/local/lib/python3.5/dist-packages/sklearn/model_selection/_validation.py:880: RuntimeWarning: Number of classes in training fold (2) does not match total number of classes (3). Results may not be appropriate for your use case. To fix this, use a cross-validation technique resulting in properly stratified folds\n",
      "  RuntimeWarning)\n"
     ]
    },
    {
     "name": "stdout",
     "output_type": "stream",
     "text": [
      "Drug id: 193, MSE: 0.4569985769511103, accuracy: 0.8905742145178764, AUC: 0.5660387378944081\n",
      "Drug id: 194, MSE: 2.2514350376460732, accuracy: 0.6624129930394431, AUC: 0.6388298052723498\n",
      "Drug id: 196, MSE: 2.9819189309065677, accuracy: 0.6637458926615553, AUC: 0.6731949515353582\n",
      "Drug id: 197, MSE: 0.7160250584696403, accuracy: 0.6048387096774194, AUC: 0.5636377320769476\n",
      "Drug id: 199, MSE: 1.534167791555643, accuracy: 0.6570771001150748, AUC: 0.589149238035382\n",
      "Drug id: 200, MSE: 1.2923501725913882, accuracy: 0.6506300114547537, AUC: 0.5593288291079553\n",
      "Drug id: 201, MSE: 3.1347906356052833, accuracy: 0.5458715596330275, AUC: 0.5771217115280999\n",
      "Drug id: 202, MSE: 0.4783751741320024, accuracy: 0.75, AUC: 0.5848029671648373\n",
      "Drug id: 203, MSE: 0.9839087140814653, accuracy: 0.70995670995671, AUC: 0.7053327118192604\n",
      "Drug id: 204, MSE: 2.589950229746651, accuracy: 0.7333333333333333, AUC: 0.5780939902194845\n"
     ]
    }
   ],
   "source": [
    "for drug_id in drug_df['drug_id'].unique():\n",
    "    idx1 = drug_df.loc[drug_df['drug_id'] == drug_id, 'cell_line_id']\n",
    "    idx2 = cell_line_df.loc[cell_line_df['cell_line_id'].isin(idx1), \n",
    "                            'cell_line_id']\n",
    "    final_idx = set(idx1).intersection(set(idx2))\n",
    "    select_drug_df = ((drug_df['drug_id'] == drug_id) &\n",
    "                      (drug_df['cell_line_id'].isin(final_idx)))\n",
    "\n",
    "    X = cell_line_df.loc[cell_line_df['cell_line_id'].isin(final_idx)].copy()\n",
    "    # if duplicated cell lines, keep the first one\n",
    "    X.drop_duplicates(subset=['cell_line_id'], inplace=True)\n",
    "    X.drop(columns='cell_line_id', inplace=True)\n",
    "    \n",
    "    # PCA, keep n_components that explain 80% of the variance\n",
    "    pca = PCA(n_components=0.8)\n",
    "    X = pca.fit_transform(X)\n",
    "    \n",
    "    # regression\n",
    "    y = drug_df.loc[select_drug_df, 'log_IC50']\n",
    "    \n",
    "    elastic_net = ElasticNet()\n",
    "    y_pred = cross_val_predict(elastic_net, X, y, cv=5)\n",
    "    drug_df.loc[select_drug_df, 'predicted_log_IC50'] = y_pred\n",
    "    \n",
    "    mse = mean_squared_error(y, y_pred)\n",
    "    result_df.loc[result_df['drug_id'] == drug_id, 'mse'] = mse\n",
    "    \n",
    "    # classification\n",
    "    sensitivity = drug_df.loc[select_drug_df, 'sensitivity']\n",
    "    label_encoder = preprocessing.LabelEncoder()\n",
    "    y = label_encoder.fit_transform(sensitivity)\n",
    "    \n",
    "    knn = KNeighborsClassifier()\n",
    "    y_pred = cross_val_predict(knn, X, y, cv=5)\n",
    "    y_pred_proba = cross_val_predict(knn, X, y, cv=5,\n",
    "                                     method='predict_proba')\n",
    "    \n",
    "    predicted_sensitivity = label_encoder.inverse_transform(y_pred)\n",
    "    drug_df.loc[select_drug_df, 'predicted_sensitivity'] = predicted_sensitivity\n",
    "    \n",
    "    accuracy = accuracy_score(y, y_pred)\n",
    "    result_df.loc[result_df['drug_id'] == drug_id, 'accuracy'] = accuracy\n",
    "    \n",
    "    auc = roc_auc_score(y, y_pred_proba, multi_class='ovo')\n",
    "    result_df.loc[result_df['drug_id'] == drug_id, 'auc'] = auc\n",
    "    \n",
    "    print('Drug id: {}, MSE: {}, accuracy: {}, AUC: {}'.format(\n",
    "        drug_id, mse, accuracy, auc))"
   ]
  },
  {
   "cell_type": "code",
   "execution_count": null,
   "metadata": {},
   "outputs": [],
   "source": [
    "drug_df.to_csv('data/drug_df_pca.csv', index=False)\n",
    "result_df.to_csv('data/result_df_pca.csv', index=False)"
   ]
  },
  {
   "cell_type": "code",
   "execution_count": null,
   "metadata": {},
   "outputs": [],
   "source": [
    "drug_df.sample(n=5)"
   ]
  },
  {
   "cell_type": "code",
   "execution_count": null,
   "metadata": {
    "scrolled": true
   },
   "outputs": [],
   "source": [
    "# top 10 and bottom 10\n",
    "display(result_df.nsmallest(10, 'mse')[['drug_id', 'mse']])\n",
    "display(result_df.nlargest(10, 'mse')[['drug_id', 'mse']])"
   ]
  }
 ],
 "metadata": {
  "kernelspec": {
   "display_name": "Python 3",
   "language": "python",
   "name": "python3"
  },
  "language_info": {
   "codemirror_mode": {
    "name": "ipython",
    "version": 3
   },
   "file_extension": ".py",
   "mimetype": "text/x-python",
   "name": "python",
   "nbconvert_exporter": "python",
   "pygments_lexer": "ipython3",
   "version": "3.5.2"
  }
 },
 "nbformat": 4,
 "nbformat_minor": 2
}
