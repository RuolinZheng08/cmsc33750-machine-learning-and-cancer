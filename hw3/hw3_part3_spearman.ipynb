{
 "cells": [
  {
   "cell_type": "code",
   "execution_count": 1,
   "metadata": {},
   "outputs": [
    {
     "ename": "ModuleNotFoundError",
     "evalue": "No module named 'seaborn'",
     "output_type": "error",
     "traceback": [
      "\u001b[0;31m---------------------------------------------------------------------------\u001b[0m",
      "\u001b[0;31mModuleNotFoundError\u001b[0m                       Traceback (most recent call last)",
      "\u001b[0;32m<ipython-input-1-e382a8e0f9ad>\u001b[0m in \u001b[0;36m<module>\u001b[0;34m\u001b[0m\n\u001b[1;32m      1\u001b[0m \u001b[0;32mimport\u001b[0m \u001b[0mnumpy\u001b[0m \u001b[0;32mas\u001b[0m \u001b[0mnp\u001b[0m\u001b[0;34m\u001b[0m\u001b[0;34m\u001b[0m\u001b[0m\n\u001b[1;32m      2\u001b[0m \u001b[0;32mimport\u001b[0m \u001b[0mpandas\u001b[0m \u001b[0;32mas\u001b[0m \u001b[0mpd\u001b[0m\u001b[0;34m\u001b[0m\u001b[0;34m\u001b[0m\u001b[0m\n\u001b[0;32m----> 3\u001b[0;31m \u001b[0;32mimport\u001b[0m \u001b[0mseaborn\u001b[0m \u001b[0;32mas\u001b[0m \u001b[0msns\u001b[0m\u001b[0;34m\u001b[0m\u001b[0;34m\u001b[0m\u001b[0m\n\u001b[0m\u001b[1;32m      4\u001b[0m \u001b[0;32mimport\u001b[0m \u001b[0mmatplotlib\u001b[0m\u001b[0;34m.\u001b[0m\u001b[0mpyplot\u001b[0m \u001b[0;32mas\u001b[0m \u001b[0mplt\u001b[0m\u001b[0;34m\u001b[0m\u001b[0;34m\u001b[0m\u001b[0m\n\u001b[1;32m      5\u001b[0m \u001b[0;32mfrom\u001b[0m \u001b[0mitertools\u001b[0m \u001b[0;32mimport\u001b[0m \u001b[0mproduct\u001b[0m\u001b[0;34m\u001b[0m\u001b[0;34m\u001b[0m\u001b[0m\n",
      "\u001b[0;31mModuleNotFoundError\u001b[0m: No module named 'seaborn'"
     ]
    }
   ],
   "source": [
    "import numpy as np\n",
    "import pandas as pd\n",
    "import seaborn as sns\n",
    "import matplotlib.pyplot as plt\n",
    "from itertools import product\n",
    "from IPython.display import display\n",
    "from scipy import stats"
   ]
  },
  {
   "cell_type": "code",
   "execution_count": 44,
   "metadata": {},
   "outputs": [],
   "source": [
    "pd.options.display.float_format = '{:.4f}'.format"
   ]
  },
  {
   "cell_type": "markdown",
   "metadata": {},
   "source": [
    "# Metrics: Spearman\n",
    "To see if we've improved upon the results, let's see if we've improved Spearman's correlation."
   ]
  },
  {
   "cell_type": "code",
   "execution_count": 11,
   "metadata": {},
   "outputs": [],
   "source": [
    "gdsc_df = pd.read_csv('data/IC50_quantized.csv') # GDSC experimental results"
   ]
  },
  {
   "cell_type": "code",
   "execution_count": 12,
   "metadata": {},
   "outputs": [
    {
     "data": {
      "text/html": [
       "<div>\n",
       "<style scoped>\n",
       "    .dataframe tbody tr th:only-of-type {\n",
       "        vertical-align: middle;\n",
       "    }\n",
       "\n",
       "    .dataframe tbody tr th {\n",
       "        vertical-align: top;\n",
       "    }\n",
       "\n",
       "    .dataframe thead th {\n",
       "        text-align: right;\n",
       "    }\n",
       "</style>\n",
       "<table border=\"1\" class=\"dataframe\">\n",
       "  <thead>\n",
       "    <tr style=\"text-align: right;\">\n",
       "      <th></th>\n",
       "      <th>drug_id</th>\n",
       "      <th>cell_line_id</th>\n",
       "      <th>log_IC50</th>\n",
       "      <th>sensitivity</th>\n",
       "    </tr>\n",
       "  </thead>\n",
       "  <tbody>\n",
       "    <tr>\n",
       "      <th>206838</th>\n",
       "      <td>1248</td>\n",
       "      <td>683665</td>\n",
       "      <td>-6.84</td>\n",
       "      <td>sensitive</td>\n",
       "    </tr>\n",
       "    <tr>\n",
       "      <th>105135</th>\n",
       "      <td>283</td>\n",
       "      <td>683665</td>\n",
       "      <td>-5.40</td>\n",
       "      <td>sensitive</td>\n",
       "    </tr>\n",
       "    <tr>\n",
       "      <th>140093</th>\n",
       "      <td>1004</td>\n",
       "      <td>683665</td>\n",
       "      <td>-5.12</td>\n",
       "      <td>sensitive</td>\n",
       "    </tr>\n",
       "    <tr>\n",
       "      <th>19296</th>\n",
       "      <td>135</td>\n",
       "      <td>683665</td>\n",
       "      <td>-4.41</td>\n",
       "      <td>sensitive</td>\n",
       "    </tr>\n",
       "    <tr>\n",
       "      <th>93506</th>\n",
       "      <td>268</td>\n",
       "      <td>683665</td>\n",
       "      <td>-4.41</td>\n",
       "      <td>sensitive</td>\n",
       "    </tr>\n",
       "    <tr>\n",
       "      <th>137358</th>\n",
       "      <td>346</td>\n",
       "      <td>683665</td>\n",
       "      <td>-4.25</td>\n",
       "      <td>sensitive</td>\n",
       "    </tr>\n",
       "    <tr>\n",
       "      <th>177059</th>\n",
       "      <td>1057</td>\n",
       "      <td>683665</td>\n",
       "      <td>-4.06</td>\n",
       "      <td>sensitive</td>\n",
       "    </tr>\n",
       "    <tr>\n",
       "      <th>146325</th>\n",
       "      <td>1011</td>\n",
       "      <td>683665</td>\n",
       "      <td>-3.77</td>\n",
       "      <td>sensitive</td>\n",
       "    </tr>\n",
       "    <tr>\n",
       "      <th>64294</th>\n",
       "      <td>208</td>\n",
       "      <td>683665</td>\n",
       "      <td>-3.72</td>\n",
       "      <td>sensitive</td>\n",
       "    </tr>\n",
       "    <tr>\n",
       "      <th>56699</th>\n",
       "      <td>200</td>\n",
       "      <td>683665</td>\n",
       "      <td>-3.70</td>\n",
       "      <td>sensitive</td>\n",
       "    </tr>\n",
       "  </tbody>\n",
       "</table>\n",
       "</div>"
      ],
      "text/plain": [
       "        drug_id  cell_line_id  log_IC50 sensitivity\n",
       "206838     1248        683665     -6.84   sensitive\n",
       "105135      283        683665     -5.40   sensitive\n",
       "140093     1004        683665     -5.12   sensitive\n",
       "19296       135        683665     -4.41   sensitive\n",
       "93506       268        683665     -4.41   sensitive\n",
       "137358      346        683665     -4.25   sensitive\n",
       "177059     1057        683665     -4.06   sensitive\n",
       "146325     1011        683665     -3.77   sensitive\n",
       "64294       208        683665     -3.72   sensitive\n",
       "56699       200        683665     -3.70   sensitive"
      ]
     },
     "execution_count": 12,
     "metadata": {},
     "output_type": "execute_result"
    }
   ],
   "source": [
    "# top 10\n",
    "sensitive = gdsc_df[gdsc_df['sensitivity'] == 'sensitive']\n",
    "sensitive[(sensitive['cell_line_id'] == 683665)].nsmallest(10, 'log_IC50')"
   ]
  },
  {
   "cell_type": "code",
   "execution_count": 27,
   "metadata": {},
   "outputs": [],
   "source": [
    "def get_top_10(df):\n",
    "    df_values = {'cell_line_id': [], 'top_10_drug_ids': []}\n",
    "    sensitive = df[df['sensitivity'] == 'sensitive']\n",
    "    for idx in df['cell_line_id'].unique():\n",
    "        top10 = sensitive[(sensitive['cell_line_id'] == idx)\n",
    "                  ].nsmallest(10, 'log_IC50')['drug_id']\n",
    "        df_values['cell_line_id'].append(idx)\n",
    "        df_values['top_10_drug_ids'].append(','.join(\n",
    "            [str(elm) for elm in top10.values])[:-1])\n",
    "    return pd.DataFrame(df_values)"
   ]
  },
  {
   "cell_type": "markdown",
   "metadata": {},
   "source": [
    "## Analyze Fitted Data"
   ]
  },
  {
   "cell_type": "code",
   "execution_count": 30,
   "metadata": {},
   "outputs": [],
   "source": [
    "part1_df = pd.read_csv('data/drug_df_part1.csv')\n",
    "pca_df = pd.read_csv('data/drug_df_pca.csv')\n",
    "racs_df = pd.read_csv('data/drug_df_racs.csv')"
   ]
  },
  {
   "cell_type": "code",
   "execution_count": 79,
   "metadata": {},
   "outputs": [],
   "source": [
    "part1_top10 = get_top_10(part1_df)\n",
    "pca_top10 = get_top_10(pca_df)\n",
    "racs_top10 = get_top_10(racs_df)"
   ]
  },
  {
   "cell_type": "code",
   "execution_count": 80,
   "metadata": {},
   "outputs": [
    {
     "data": {
      "text/html": [
       "<div>\n",
       "<style scoped>\n",
       "    .dataframe tbody tr th:only-of-type {\n",
       "        vertical-align: middle;\n",
       "    }\n",
       "\n",
       "    .dataframe tbody tr th {\n",
       "        vertical-align: top;\n",
       "    }\n",
       "\n",
       "    .dataframe thead th {\n",
       "        text-align: right;\n",
       "    }\n",
       "</style>\n",
       "<table border=\"1\" class=\"dataframe\">\n",
       "  <thead>\n",
       "    <tr style=\"text-align: right;\">\n",
       "      <th></th>\n",
       "      <th>cell_line_id</th>\n",
       "      <th>top_10_drug_ids</th>\n",
       "    </tr>\n",
       "  </thead>\n",
       "  <tbody>\n",
       "    <tr>\n",
       "      <th>0</th>\n",
       "      <td>683665</td>\n",
       "      <td>1248,283,1004,135,268,346,1057,1011,208,20</td>\n",
       "    </tr>\n",
       "    <tr>\n",
       "      <th>1</th>\n",
       "      <td>684055</td>\n",
       "      <td>1494,268,1248,180,346,208,1057,136,194,13</td>\n",
       "    </tr>\n",
       "    <tr>\n",
       "      <th>2</th>\n",
       "      <td>684057</td>\n",
       "      <td>283,1007,1003,268,1004,346,1248,1057,208,20</td>\n",
       "    </tr>\n",
       "    <tr>\n",
       "      <th>3</th>\n",
       "      <td>684059</td>\n",
       "      <td>1494,1007,1003,104,1248,346,268,283,1031,100</td>\n",
       "    </tr>\n",
       "    <tr>\n",
       "      <th>4</th>\n",
       "      <td>684062</td>\n",
       "      <td>1007,283,1003,268,1031,1004,346,200,194,18</td>\n",
       "    </tr>\n",
       "  </tbody>\n",
       "</table>\n",
       "</div>"
      ],
      "text/plain": [
       "   cell_line_id                               top_10_drug_ids\n",
       "0        683665    1248,283,1004,135,268,346,1057,1011,208,20\n",
       "1        684055     1494,268,1248,180,346,208,1057,136,194,13\n",
       "2        684057   283,1007,1003,268,1004,346,1248,1057,208,20\n",
       "3        684059  1494,1007,1003,104,1248,346,268,283,1031,100\n",
       "4        684062    1007,283,1003,268,1031,1004,346,200,194,18"
      ]
     },
     "execution_count": 80,
     "metadata": {},
     "output_type": "execute_result"
    }
   ],
   "source": [
    "part1_top10.head()"
   ]
  },
  {
   "cell_type": "code",
   "execution_count": 81,
   "metadata": {},
   "outputs": [],
   "source": [
    "part1_top10.to_csv('data/part1_top10_per_cell_line.csv', index=False)\n",
    "pca_top10.to_csv('data/pca_top10_per_cell_line.csv', index=False)\n",
    "racs_top10.to_csv('data/racs_top10_per_cell_line.csv', index=False)"
   ]
  },
  {
   "cell_type": "code",
   "execution_count": 84,
   "metadata": {},
   "outputs": [],
   "source": [
    "# save as latex for PDF report\n",
    "with open('data/temp.txt', 'wt') as f:\n",
    "    f.write(racs_top10.sample(n=5).to_latex(index=False))"
   ]
  },
  {
   "cell_type": "markdown",
   "metadata": {},
   "source": [
    "### Take cell line with id 683665 as an example"
   ]
  },
  {
   "cell_type": "code",
   "execution_count": 33,
   "metadata": {},
   "outputs": [],
   "source": [
    "gdc_log_IC50 = gdsc_df.loc[gdsc_df['cell_line_id'] == 683665, \n",
    "                           'log_IC50']\n",
    "part1_log_IC50 = part1_df.loc[part1_df['cell_line_id'] == 683665, \n",
    "                              'predicted_log_IC50']\n",
    "pca_log_IC50 = pca_df.loc[pca_df['cell_line_id'] == 683665, \n",
    "                          'predicted_log_IC50']\n",
    "racs_log_IC50 = racs_df.loc[racs_df['cell_line_id'] == 683665, \n",
    "                                  'predicted_log_IC50']"
   ]
  },
  {
   "cell_type": "code",
   "execution_count": 35,
   "metadata": {},
   "outputs": [
    {
     "name": "stdout",
     "output_type": "stream",
     "text": [
      "SpearmanrResult(correlation=0.9271997441072767, pvalue=2.612424993888819e-113)\n",
      "SpearmanrResult(correlation=0.9356550334874899, pvalue=4.613759674374706e-120)\n",
      "SpearmanrResult(correlation=0.937808518346605, pvalue=6.26345404258059e-122)\n"
     ]
    }
   ],
   "source": [
    "for ref, pred in product([gdc_log_IC50], [part1_log_IC50, pca_log_IC50, racs_log_IC50]):\n",
    "    print(stats.spearmanr(ref, pred))"
   ]
  },
  {
   "cell_type": "markdown",
   "metadata": {},
   "source": [
    "Spearman results is above 0.9, meaning that our model ranks the drug similar to their ranks in the original data. Spearman results also increased from our experiments in Part 1 to Part 2. This means that our model is getting better."
   ]
  },
  {
   "cell_type": "code",
   "execution_count": 36,
   "metadata": {},
   "outputs": [],
   "source": [
    "df_values = {'cell_line_id': [], 'part1_spearmanr': [],\n",
    "            'pca_spearmanr': [], 'racs_spearmanr': []}\n",
    "for idx in gdsc_df['cell_line_id'].unique():\n",
    "    gdc_log_IC50 = gdsc_df.loc[gdsc_df['cell_line_id'] == idx, \n",
    "                           'log_IC50']\n",
    "    part1_log_IC50 = part1_df.loc[part1_df['cell_line_id'] == idx, \n",
    "                                  'predicted_log_IC50']\n",
    "    pca_log_IC50 = pca_df.loc[pca_df['cell_line_id'] == idx, \n",
    "                              'predicted_log_IC50']\n",
    "    racs_log_IC50 = racs_df.loc[racs_df['cell_line_id'] == idx, \n",
    "                                      'predicted_log_IC50']\n",
    "    \n",
    "    part1_spearmanr = stats.spearmanr(gdc_log_IC50, part1_log_IC50).correlation\n",
    "    pca_spearmanr = stats.spearmanr(gdc_log_IC50, pca_log_IC50).correlation\n",
    "    racs_spearmanr = stats.spearmanr(gdc_log_IC50, racs_log_IC50).correlation\n",
    "    \n",
    "    df_values['cell_line_id'].append(idx)\n",
    "    df_values['part1_spearmanr'].append(part1_spearmanr)\n",
    "    df_values['pca_spearmanr'].append(pca_spearmanr)\n",
    "    df_values['racs_spearmanr'].append(racs_spearmanr)"
   ]
  },
  {
   "cell_type": "code",
   "execution_count": 37,
   "metadata": {},
   "outputs": [],
   "source": [
    "spearman_df = pd.DataFrame(df_values)"
   ]
  },
  {
   "cell_type": "code",
   "execution_count": 45,
   "metadata": {
    "scrolled": false
   },
   "outputs": [
    {
     "data": {
      "text/html": [
       "<div>\n",
       "<style scoped>\n",
       "    .dataframe tbody tr th:only-of-type {\n",
       "        vertical-align: middle;\n",
       "    }\n",
       "\n",
       "    .dataframe tbody tr th {\n",
       "        vertical-align: top;\n",
       "    }\n",
       "\n",
       "    .dataframe thead th {\n",
       "        text-align: right;\n",
       "    }\n",
       "</style>\n",
       "<table border=\"1\" class=\"dataframe\">\n",
       "  <thead>\n",
       "    <tr style=\"text-align: right;\">\n",
       "      <th></th>\n",
       "      <th>cell_line_id</th>\n",
       "      <th>part1_spearmanr</th>\n",
       "      <th>pca_spearmanr</th>\n",
       "      <th>racs_spearmanr</th>\n",
       "    </tr>\n",
       "  </thead>\n",
       "  <tbody>\n",
       "    <tr>\n",
       "      <th>0</th>\n",
       "      <td>683665</td>\n",
       "      <td>0.9272</td>\n",
       "      <td>0.9357</td>\n",
       "      <td>0.9378</td>\n",
       "    </tr>\n",
       "    <tr>\n",
       "      <th>1</th>\n",
       "      <td>684055</td>\n",
       "      <td>0.8506</td>\n",
       "      <td>0.8815</td>\n",
       "      <td>0.8852</td>\n",
       "    </tr>\n",
       "    <tr>\n",
       "      <th>2</th>\n",
       "      <td>684057</td>\n",
       "      <td>0.8280</td>\n",
       "      <td>0.8745</td>\n",
       "      <td>0.8736</td>\n",
       "    </tr>\n",
       "    <tr>\n",
       "      <th>3</th>\n",
       "      <td>684059</td>\n",
       "      <td>0.8010</td>\n",
       "      <td>0.8530</td>\n",
       "      <td>0.8519</td>\n",
       "    </tr>\n",
       "    <tr>\n",
       "      <th>4</th>\n",
       "      <td>684062</td>\n",
       "      <td>0.8135</td>\n",
       "      <td>0.8552</td>\n",
       "      <td>0.8562</td>\n",
       "    </tr>\n",
       "  </tbody>\n",
       "</table>\n",
       "</div>"
      ],
      "text/plain": [
       "   cell_line_id  part1_spearmanr  pca_spearmanr  racs_spearmanr\n",
       "0        683665           0.9272         0.9357          0.9378\n",
       "1        684055           0.8506         0.8815          0.8852\n",
       "2        684057           0.8280         0.8745          0.8736\n",
       "3        684059           0.8010         0.8530          0.8519\n",
       "4        684062           0.8135         0.8552          0.8562"
      ]
     },
     "metadata": {},
     "output_type": "display_data"
    },
    {
     "data": {
      "text/html": [
       "<div>\n",
       "<style scoped>\n",
       "    .dataframe tbody tr th:only-of-type {\n",
       "        vertical-align: middle;\n",
       "    }\n",
       "\n",
       "    .dataframe tbody tr th {\n",
       "        vertical-align: top;\n",
       "    }\n",
       "\n",
       "    .dataframe thead th {\n",
       "        text-align: right;\n",
       "    }\n",
       "</style>\n",
       "<table border=\"1\" class=\"dataframe\">\n",
       "  <thead>\n",
       "    <tr style=\"text-align: right;\">\n",
       "      <th></th>\n",
       "      <th>cell_line_id</th>\n",
       "      <th>part1_spearmanr</th>\n",
       "      <th>pca_spearmanr</th>\n",
       "      <th>racs_spearmanr</th>\n",
       "    </tr>\n",
       "  </thead>\n",
       "  <tbody>\n",
       "    <tr>\n",
       "      <th>860</th>\n",
       "      <td>1290730</td>\n",
       "      <td>0.9131</td>\n",
       "      <td>0.9189</td>\n",
       "      <td>0.9125</td>\n",
       "    </tr>\n",
       "    <tr>\n",
       "      <th>878</th>\n",
       "      <td>1290908</td>\n",
       "      <td>0.8754</td>\n",
       "      <td>0.8871</td>\n",
       "      <td>0.8852</td>\n",
       "    </tr>\n",
       "    <tr>\n",
       "      <th>953</th>\n",
       "      <td>908482</td>\n",
       "      <td>0.8723</td>\n",
       "      <td>0.8697</td>\n",
       "      <td>0.8716</td>\n",
       "    </tr>\n",
       "    <tr>\n",
       "      <th>2</th>\n",
       "      <td>684057</td>\n",
       "      <td>0.8280</td>\n",
       "      <td>0.8745</td>\n",
       "      <td>0.8736</td>\n",
       "    </tr>\n",
       "    <tr>\n",
       "      <th>743</th>\n",
       "      <td>910946</td>\n",
       "      <td>0.8692</td>\n",
       "      <td>0.8688</td>\n",
       "      <td>0.8703</td>\n",
       "    </tr>\n",
       "    <tr>\n",
       "      <th>567</th>\n",
       "      <td>906797</td>\n",
       "      <td>0.9186</td>\n",
       "      <td>0.9196</td>\n",
       "      <td>0.9219</td>\n",
       "    </tr>\n",
       "    <tr>\n",
       "      <th>650</th>\n",
       "      <td>908131</td>\n",
       "      <td>0.7520</td>\n",
       "      <td>0.7378</td>\n",
       "      <td>0.7459</td>\n",
       "    </tr>\n",
       "    <tr>\n",
       "      <th>91</th>\n",
       "      <td>905970</td>\n",
       "      <td>0.8238</td>\n",
       "      <td>0.8367</td>\n",
       "      <td>0.8361</td>\n",
       "    </tr>\n",
       "    <tr>\n",
       "      <th>637</th>\n",
       "      <td>907321</td>\n",
       "      <td>0.9245</td>\n",
       "      <td>0.9232</td>\n",
       "      <td>0.9255</td>\n",
       "    </tr>\n",
       "    <tr>\n",
       "      <th>936</th>\n",
       "      <td>1299064</td>\n",
       "      <td>0.8941</td>\n",
       "      <td>0.8906</td>\n",
       "      <td>0.8853</td>\n",
       "    </tr>\n",
       "  </tbody>\n",
       "</table>\n",
       "</div>"
      ],
      "text/plain": [
       "     cell_line_id  part1_spearmanr  pca_spearmanr  racs_spearmanr\n",
       "860       1290730           0.9131         0.9189          0.9125\n",
       "878       1290908           0.8754         0.8871          0.8852\n",
       "953        908482           0.8723         0.8697          0.8716\n",
       "2          684057           0.8280         0.8745          0.8736\n",
       "743        910946           0.8692         0.8688          0.8703\n",
       "567        906797           0.9186         0.9196          0.9219\n",
       "650        908131           0.7520         0.7378          0.7459\n",
       "91         905970           0.8238         0.8367          0.8361\n",
       "637        907321           0.9245         0.9232          0.9255\n",
       "936       1299064           0.8941         0.8906          0.8853"
      ]
     },
     "metadata": {},
     "output_type": "display_data"
    }
   ],
   "source": [
    "display(spearman_df.head())\n",
    "display(spearman_df.sample(n=10))"
   ]
  },
  {
   "cell_type": "code",
   "execution_count": 78,
   "metadata": {},
   "outputs": [
    {
     "data": {
      "image/png": "[encoded data removed]",
      "text/plain": [
       "<Figure size 1008x432 with 1 Axes>"
      ]
     },
     "metadata": {
      "needs_background": "light"
     },
     "output_type": "display_data"
    }
   ],
   "source": [
    "plt.figure(figsize=(14, 6))\n",
    "temp = spearman_df.sample(n=10)\n",
    "temp = pd.melt(temp, id_vars=['cell_line_id'], \n",
    "               value_vars=temp.columns[1:])\n",
    "temp['cell_line_id'].astype(str)\n",
    "ax = sns.stripplot(data=temp, x='cell_line_id', y='value', \n",
    "                   hue='variable', jitter=0)"
   ]
  },
  {
   "cell_type": "code",
   "execution_count": 48,
   "metadata": {},
   "outputs": [],
   "source": [
    "spearman_df.to_csv('data/spearman_df.csv')"
   ]
  },
  {
   "cell_type": "code",
   "execution_count": 2,
   "metadata": {},
   "outputs": [],
   "source": [
    "spearman_df = pd.read_csv('results/spearman_df.csv')"
   ]
  },
  {
   "cell_type": "code",
   "execution_count": 3,
   "metadata": {},
   "outputs": [],
   "source": [
    "with open('temp.txt', 'wt') as f:\n",
    "    f.write(spearman_df.sample(n=5).to_latex(index=False))"
   ]
  }
 ],
 "metadata": {
  "kernelspec": {
   "display_name": "Python 3",
   "language": "python",
   "name": "python3"
  },
  "language_info": {
   "codemirror_mode": {
    "name": "ipython",
    "version": 3
   },
   "file_extension": ".py",
   "mimetype": "text/x-python",
   "name": "python",
   "nbconvert_exporter": "python",
   "pygments_lexer": "ipython3",
   "version": "3.8.0"
  }
 },
 "nbformat": 4,
 "nbformat_minor": 2
}
