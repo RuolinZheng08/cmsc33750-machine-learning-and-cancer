{
 "cells": [
  {
   "cell_type": "code",
   "execution_count": 1,
   "metadata": {},
   "outputs": [],
   "source": [
    "import numpy as np\n",
    "import pandas as pd\n",
    "import seaborn as sns\n",
    "import matplotlib.pyplot as plt\n",
    "\n",
    "from scipy import stats"
   ]
  },
  {
   "cell_type": "markdown",
   "metadata": {},
   "source": [
    "# Metrics\n",
    "To see if we've improved upon the results, let's see if we've improved Spearman's correlation."
   ]
  },
  {
   "cell_type": "code",
   "execution_count": 11,
   "metadata": {},
   "outputs": [],
   "source": [
    "gdsc_df = pd.read_csv('data/IC50_quantized.csv') # GDSC experimental results"
   ]
  },
  {
   "cell_type": "code",
   "execution_count": 12,
   "metadata": {},
   "outputs": [
    {
     "data": {
      "text/html": [
       "<div>\n",
       "<style scoped>\n",
       "    .dataframe tbody tr th:only-of-type {\n",
       "        vertical-align: middle;\n",
       "    }\n",
       "\n",
       "    .dataframe tbody tr th {\n",
       "        vertical-align: top;\n",
       "    }\n",
       "\n",
       "    .dataframe thead th {\n",
       "        text-align: right;\n",
       "    }\n",
       "</style>\n",
       "<table border=\"1\" class=\"dataframe\">\n",
       "  <thead>\n",
       "    <tr style=\"text-align: right;\">\n",
       "      <th></th>\n",
       "      <th>drug_id</th>\n",
       "      <th>cell_line_id</th>\n",
       "      <th>log_IC50</th>\n",
       "      <th>sensitivity</th>\n",
       "    </tr>\n",
       "  </thead>\n",
       "  <tbody>\n",
       "    <tr>\n",
       "      <th>206838</th>\n",
       "      <td>1248</td>\n",
       "      <td>683665</td>\n",
       "      <td>-6.84</td>\n",
       "      <td>sensitive</td>\n",
       "    </tr>\n",
       "    <tr>\n",
       "      <th>105135</th>\n",
       "      <td>283</td>\n",
       "      <td>683665</td>\n",
       "      <td>-5.40</td>\n",
       "      <td>sensitive</td>\n",
       "    </tr>\n",
       "    <tr>\n",
       "      <th>140093</th>\n",
       "      <td>1004</td>\n",
       "      <td>683665</td>\n",
       "      <td>-5.12</td>\n",
       "      <td>sensitive</td>\n",
       "    </tr>\n",
       "    <tr>\n",
       "      <th>19296</th>\n",
       "      <td>135</td>\n",
       "      <td>683665</td>\n",
       "      <td>-4.41</td>\n",
       "      <td>sensitive</td>\n",
       "    </tr>\n",
       "    <tr>\n",
       "      <th>93506</th>\n",
       "      <td>268</td>\n",
       "      <td>683665</td>\n",
       "      <td>-4.41</td>\n",
       "      <td>sensitive</td>\n",
       "    </tr>\n",
       "    <tr>\n",
       "      <th>137358</th>\n",
       "      <td>346</td>\n",
       "      <td>683665</td>\n",
       "      <td>-4.25</td>\n",
       "      <td>sensitive</td>\n",
       "    </tr>\n",
       "    <tr>\n",
       "      <th>177059</th>\n",
       "      <td>1057</td>\n",
       "      <td>683665</td>\n",
       "      <td>-4.06</td>\n",
       "      <td>sensitive</td>\n",
       "    </tr>\n",
       "    <tr>\n",
       "      <th>146325</th>\n",
       "      <td>1011</td>\n",
       "      <td>683665</td>\n",
       "      <td>-3.77</td>\n",
       "      <td>sensitive</td>\n",
       "    </tr>\n",
       "    <tr>\n",
       "      <th>64294</th>\n",
       "      <td>208</td>\n",
       "      <td>683665</td>\n",
       "      <td>-3.72</td>\n",
       "      <td>sensitive</td>\n",
       "    </tr>\n",
       "    <tr>\n",
       "      <th>56699</th>\n",
       "      <td>200</td>\n",
       "      <td>683665</td>\n",
       "      <td>-3.70</td>\n",
       "      <td>sensitive</td>\n",
       "    </tr>\n",
       "  </tbody>\n",
       "</table>\n",
       "</div>"
      ],
      "text/plain": [
       "        drug_id  cell_line_id  log_IC50 sensitivity\n",
       "206838     1248        683665     -6.84   sensitive\n",
       "105135      283        683665     -5.40   sensitive\n",
       "140093     1004        683665     -5.12   sensitive\n",
       "19296       135        683665     -4.41   sensitive\n",
       "93506       268        683665     -4.41   sensitive\n",
       "137358      346        683665     -4.25   sensitive\n",
       "177059     1057        683665     -4.06   sensitive\n",
       "146325     1011        683665     -3.77   sensitive\n",
       "64294       208        683665     -3.72   sensitive\n",
       "56699       200        683665     -3.70   sensitive"
      ]
     },
     "execution_count": 12,
     "metadata": {},
     "output_type": "execute_result"
    }
   ],
   "source": [
    "# top 10\n",
    "sensitive = gdsc_df[gdsc_df['sensitivity'] == 'sensitive']\n",
    "sensitive[(sensitive['cell_line_id'] == 683665)].nsmallest(10, 'log_IC50')"
   ]
  },
  {
   "cell_type": "code",
   "execution_count": 20,
   "metadata": {},
   "outputs": [],
   "source": [
    "def get_top_10(df):\n",
    "    df_values = {'cell_line_id': [], 'top_10_drug_ids': []}\n",
    "    sensitive = df[df['sensitivity'] == 'sensitive']\n",
    "    for idx in df['cell_line_id'].unique():\n",
    "        top10 = df[(df['cell_line_id'] == idx)\n",
    "                  ].nsmallest(10, 'log_IC50')['drug_id']\n",
    "        df_values['cell_line_id'].append(idx)\n",
    "        df_values['top_10_drug_ids'].append(','.join(\n",
    "            [str(elm) for elm in top10.values])[:-1])\n",
    "    return pd.DataFrame(df)"
   ]
  },
  {
   "cell_type": "code",
   "execution_count": null,
   "metadata": {},
   "outputs": [],
   "source": [
    "gdsc_top_10 = get_top_10(gdsc_df)"
   ]
  },
  {
   "cell_type": "markdown",
   "metadata": {},
   "source": [
    "## Analyze Fitted Data"
   ]
  },
  {
   "cell_type": "code",
   "execution_count": null,
   "metadata": {},
   "outputs": [],
   "source": [
    "part1_df = pd.read_csv('data/drug_df_part1.csv')\n",
    "pca_df = pd.read_csv('data/drug_df_pca.csv')"
   ]
  }
 ],
 "metadata": {
  "kernelspec": {
   "display_name": "Python 3",
   "language": "python",
   "name": "python3"
  },
  "language_info": {
   "codemirror_mode": {
    "name": "ipython",
    "version": 3
   },
   "file_extension": ".py",
   "mimetype": "text/x-python",
   "name": "python",
   "nbconvert_exporter": "python",
   "pygments_lexer": "ipython3",
   "version": "3.5.2"
  }
 },
 "nbformat": 4,
 "nbformat_minor": 2
}
