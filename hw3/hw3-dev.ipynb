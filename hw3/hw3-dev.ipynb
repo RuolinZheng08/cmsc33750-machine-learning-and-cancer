{
 "cells": [
  {
   "cell_type": "code",
   "execution_count": 1,
   "metadata": {},
   "outputs": [],
   "source": [
    "import numpy as np\n",
    "import pandas as pd\n",
    "import seaborn as sns\n",
    "import matplotlib.pyplot as plt"
   ]
  },
  {
   "cell_type": "code",
   "execution_count": 23,
   "metadata": {},
   "outputs": [],
   "source": [
    "from sklearn.linear_model import ElasticNet\n",
    "from sklearn.neural_network import MLPClassifier\n",
    "from sklearn.model_selection import cross_val_predict\n",
    "from sklearn.metrics import mean_squared_error, roc_auc_score"
   ]
  },
  {
   "cell_type": "code",
   "execution_count": 3,
   "metadata": {},
   "outputs": [],
   "source": [
    "cell_line_df = pd.read_csv('data/cell_line.csv')"
   ]
  },
  {
   "cell_type": "code",
   "execution_count": 5,
   "metadata": {},
   "outputs": [],
   "source": [
    "drug_df = pd.read_csv('data/IC50.csv')"
   ]
  },
  {
   "cell_type": "markdown",
   "metadata": {},
   "source": [
    "# Part 1. Predict Drug Response"
   ]
  },
  {
   "cell_type": "markdown",
   "metadata": {},
   "source": [
    "## Regression"
   ]
  },
  {
   "cell_type": "code",
   "execution_count": 39,
   "metadata": {},
   "outputs": [],
   "source": [
    "# include only cell lines that appear in both df\n",
    "idx1 = drug_df.loc[drug_df['drug_id'] == 1, 'cell_line_id']\n",
    "idx2 = cell_line_df.loc[cell_line_df['cell_line_id'].isin(idx1), \n",
    "                        'cell_line_id']\n",
    "final_idx = set(idx1).intersection(set(idx2))\n",
    "\n",
    "X = cell_line_df.loc[cell_line_df['cell_line_id'].isin(final_idx)].copy()\n",
    "X.drop_duplicates(subset=['cell_line_id'])\n",
    "X.drop(columns='cell_line_id', inplace=True)\n",
    "y = drug_df.loc[(drug_df['drug_id'] == 1) &\n",
    "                (drug_df['cell_line_id'].isin(final_idx)),\n",
    "                'log_IC50']"
   ]
  },
  {
   "cell_type": "code",
   "execution_count": 35,
   "metadata": {},
   "outputs": [
    {
     "data": {
      "text/html": [
       "<div>\n",
       "<style scoped>\n",
       "    .dataframe tbody tr th:only-of-type {\n",
       "        vertical-align: middle;\n",
       "    }\n",
       "\n",
       "    .dataframe tbody tr th {\n",
       "        vertical-align: top;\n",
       "    }\n",
       "\n",
       "    .dataframe thead th {\n",
       "        text-align: right;\n",
       "    }\n",
       "</style>\n",
       "<table border=\"1\" class=\"dataframe\">\n",
       "  <thead>\n",
       "    <tr style=\"text-align: right;\">\n",
       "      <th></th>\n",
       "      <th>drug_id</th>\n",
       "      <th>cell_line_id</th>\n",
       "      <th>log_IC50</th>\n",
       "      <th>predicted_log_IC50</th>\n",
       "      <th>mean_squared_error</th>\n",
       "    </tr>\n",
       "  </thead>\n",
       "  <tbody>\n",
       "    <tr>\n",
       "      <th>0</th>\n",
       "      <td>1</td>\n",
       "      <td>683665</td>\n",
       "      <td>2.44</td>\n",
       "      <td>NaN</td>\n",
       "      <td>NaN</td>\n",
       "    </tr>\n",
       "    <tr>\n",
       "      <th>1</th>\n",
       "      <td>1</td>\n",
       "      <td>684055</td>\n",
       "      <td>3.34</td>\n",
       "      <td>NaN</td>\n",
       "      <td>NaN</td>\n",
       "    </tr>\n",
       "    <tr>\n",
       "      <th>2</th>\n",
       "      <td>1</td>\n",
       "      <td>684057</td>\n",
       "      <td>3.57</td>\n",
       "      <td>NaN</td>\n",
       "      <td>NaN</td>\n",
       "    </tr>\n",
       "    <tr>\n",
       "      <th>3</th>\n",
       "      <td>1</td>\n",
       "      <td>684059</td>\n",
       "      <td>3.19</td>\n",
       "      <td>NaN</td>\n",
       "      <td>NaN</td>\n",
       "    </tr>\n",
       "    <tr>\n",
       "      <th>4</th>\n",
       "      <td>1</td>\n",
       "      <td>684062</td>\n",
       "      <td>2.46</td>\n",
       "      <td>NaN</td>\n",
       "      <td>NaN</td>\n",
       "    </tr>\n",
       "  </tbody>\n",
       "</table>\n",
       "</div>"
      ],
      "text/plain": [
       "   drug_id  cell_line_id  log_IC50  predicted_log_IC50  mean_squared_error\n",
       "0        1        683665      2.44                 NaN                 NaN\n",
       "1        1        684055      3.34                 NaN                 NaN\n",
       "2        1        684057      3.57                 NaN                 NaN\n",
       "3        1        684059      3.19                 NaN                 NaN\n",
       "4        1        684062      2.46                 NaN                 NaN"
      ]
     },
     "execution_count": 35,
     "metadata": {},
     "output_type": "execute_result"
    }
   ],
   "source": [
    "drug_df['predicted_log_IC50'] = np.nan\n",
    "drug_df[drug_df['drug_id'] == 1].head()"
   ]
  },
  {
   "cell_type": "code",
   "execution_count": null,
   "metadata": {},
   "outputs": [],
   "source": [
    "criteria = (drug_df['drug_id'] == 1) &\n",
    "                (drug_df['cell_line_id'].isin(final_idx))\n",
    "drug_df.loc[criteria,\n",
    "           'predicted_log_IC50'] = y_pred"
   ]
  },
  {
   "cell_type": "code",
   "execution_count": 19,
   "metadata": {},
   "outputs": [],
   "source": [
    "elastic_net = ElasticNet()\n",
    "y_pred = cross_val_predict(elastic_net, X, y, cv=5)"
   ]
  },
  {
   "cell_type": "code",
   "execution_count": 22,
   "metadata": {},
   "outputs": [
    {
     "data": {
      "text/plain": [
       "1.2434051506334174"
      ]
     },
     "execution_count": 22,
     "metadata": {},
     "output_type": "execute_result"
    }
   ],
   "source": [
    "mean_squared_error(y, y_pred)"
   ]
  },
  {
   "cell_type": "code",
   "execution_count": null,
   "metadata": {},
   "outputs": [],
   "source": []
  },
  {
   "cell_type": "code",
   "execution_count": 25,
   "metadata": {},
   "outputs": [],
   "source": [
    "def get_mean_squared_error_for_drug_idx(drug_id):\n",
    "    global drug_df, cell_line_df\n",
    "    # include only cell lines that appear in both df\n",
    "    idx1 = drug_df.loc[drug_df['drug_id'] == drug_id, 'cell_line_id']\n",
    "    idx2 = cell_line_df.loc[cell_line_df['cell_line_id'].isin(idx1), \n",
    "                            'cell_line_id']\n",
    "    final_idx = set(idx1).intersection(set(idx2))\n",
    "\n",
    "    X = cell_line_df.loc[cell_line_df['cell_line_id'].isin(final_idx)].copy()\n",
    "    # if duplicated cell lines, keep the first one\n",
    "    X.drop_duplicates(subset=['cell_line_id'], inplace=True)\n",
    "    X.drop(columns='cell_line_id', inplace=True)\n",
    "    y = drug_df.loc[(drug_df['drug_id'] == drug_id) &\n",
    "                    (drug_df['cell_line_id'].isin(final_idx)),\n",
    "                    'log_IC50']\n",
    "    \n",
    "    elastic_net = ElasticNet()\n",
    "    y_pred = cross_val_predict(elastic_net, X, y, cv=5)\n",
    "    return mean_squared_error(y, y_pred)"
   ]
  },
  {
   "cell_type": "code",
   "execution_count": 26,
   "metadata": {
    "scrolled": true
   },
   "outputs": [
    {
     "data": {
      "text/plain": [
       "1.2434051506334174"
      ]
     },
     "execution_count": 26,
     "metadata": {},
     "output_type": "execute_result"
    }
   ],
   "source": [
    "get_mean_squared_error_for_drug_idx(1)"
   ]
  },
  {
   "cell_type": "code",
   "execution_count": 28,
   "metadata": {},
   "outputs": [
    {
     "data": {
      "text/plain": [
       "2.1610472600051938"
      ]
     },
     "execution_count": 28,
     "metadata": {},
     "output_type": "execute_result"
    }
   ],
   "source": [
    "get_mean_squared_error_for_drug_idx(1026)"
   ]
  },
  {
   "cell_type": "markdown",
   "metadata": {},
   "source": [
    "## Classification"
   ]
  },
  {
   "cell_type": "code",
   "execution_count": 41,
   "metadata": {},
   "outputs": [
    {
     "data": {
      "text/plain": [
       "0         resistant\n",
       "1         resistant\n",
       "2         resistant\n",
       "3         resistant\n",
       "4         resistant\n",
       "5      intermediate\n",
       "6         resistant\n",
       "7         resistant\n",
       "8         resistant\n",
       "9         resistant\n",
       "10        resistant\n",
       "11        resistant\n",
       "12        sensitive\n",
       "13        resistant\n",
       "14     intermediate\n",
       "15        resistant\n",
       "16        resistant\n",
       "18        resistant\n",
       "19        resistant\n",
       "20        resistant\n",
       "21        resistant\n",
       "22        resistant\n",
       "23     intermediate\n",
       "24        resistant\n",
       "26        resistant\n",
       "27        resistant\n",
       "28        resistant\n",
       "29        resistant\n",
       "30     intermediate\n",
       "31        resistant\n",
       "           ...     \n",
       "353       resistant\n",
       "354    intermediate\n",
       "355    intermediate\n",
       "356    intermediate\n",
       "357       resistant\n",
       "358       resistant\n",
       "359       resistant\n",
       "360    intermediate\n",
       "361       resistant\n",
       "364       resistant\n",
       "367       resistant\n",
       "368    intermediate\n",
       "369    intermediate\n",
       "370    intermediate\n",
       "371    intermediate\n",
       "373       resistant\n",
       "374       resistant\n",
       "375       resistant\n",
       "376    intermediate\n",
       "377       resistant\n",
       "378    intermediate\n",
       "379    intermediate\n",
       "380    intermediate\n",
       "381    intermediate\n",
       "382       resistant\n",
       "383    intermediate\n",
       "386    intermediate\n",
       "388       resistant\n",
       "389    intermediate\n",
       "390       resistant\n",
       "Name: log_IC50, Length: 371, dtype: category\n",
       "Categories (3, object): [sensitive < intermediate < resistant]"
      ]
     },
     "execution_count": 41,
     "metadata": {},
     "output_type": "execute_result"
    }
   ],
   "source": [
    "pd.cut(y, 3, labels=['sensitive', 'intermediate', 'resistant'])"
   ]
  }
 ],
 "metadata": {
  "kernelspec": {
   "display_name": "Python 3",
   "language": "python",
   "name": "python3"
  },
  "language_info": {
   "codemirror_mode": {
    "name": "ipython",
    "version": 3
   },
   "file_extension": ".py",
   "mimetype": "text/x-python",
   "name": "python",
   "nbconvert_exporter": "python",
   "pygments_lexer": "ipython3",
   "version": "3.5.2"
  }
 },
 "nbformat": 4,
 "nbformat_minor": 2
}
