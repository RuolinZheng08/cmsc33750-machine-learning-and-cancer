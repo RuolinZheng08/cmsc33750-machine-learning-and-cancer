{
 "cells": [
  {
   "cell_type": "code",
   "execution_count": 6,
   "metadata": {},
   "outputs": [],
   "source": [
    "import numpy as np\n",
    "import pandas as pd\n",
    "import seaborn as sns\n",
    "import matplotlib.pyplot as plt\n",
    "from IPython.display import display"
   ]
  },
  {
   "cell_type": "markdown",
   "metadata": {},
   "source": [
    "## Compare Part 1 raw data, Part 1 PCA, and Part 2"
   ]
  },
  {
   "cell_type": "markdown",
   "metadata": {},
   "source": [
    "### Top 10 and Bottom 10 Results"
   ]
  },
  {
   "cell_type": "code",
   "execution_count": 4,
   "metadata": {},
   "outputs": [],
   "source": [
    "part1_df = pd.read_csv('data/result_df_part1.csv')\n",
    "pca_df = pd.read_csv('data/result_df_pca.csv')\n",
    "racs_df = pd.read_csv('data/result_df_racs.csv')"
   ]
  },
  {
   "cell_type": "code",
   "execution_count": 71,
   "metadata": {},
   "outputs": [],
   "source": [
    "def get_top_10_bottom_10_mse(df):\n",
    "    top10 = df.nsmallest(10, 'mse') \\\n",
    "    .reset_index(drop=True)[['drug_id', 'mse']]\n",
    "    top10 = top10.add_suffix('_top10')\n",
    "    bottom10 = df.nlargest(10, 'mse') \\\n",
    "    .reset_index(drop=True)[['drug_id', 'mse']]\n",
    "    bottom10 = bottom10.add_suffix('_bottom10')\n",
    "    concat = pd.concat([top10, bottom10], axis=1)\n",
    "    return concat"
   ]
  },
  {
   "cell_type": "code",
   "execution_count": 72,
   "metadata": {},
   "outputs": [],
   "source": [
    "part1_mse = get_top_10_bottom_10_mse(part1_df)\n",
    "pca_mse = get_top_10_bottom_10_mse(pca_df)\n",
    "racs_mse = get_top_10_bottom_10_mse(racs_df)"
   ]
  },
  {
   "cell_type": "code",
   "execution_count": 74,
   "metadata": {},
   "outputs": [
    {
     "data": {
      "text/html": [
       "<div>\n",
       "<style scoped>\n",
       "    .dataframe tbody tr th:only-of-type {\n",
       "        vertical-align: middle;\n",
       "    }\n",
       "\n",
       "    .dataframe tbody tr th {\n",
       "        vertical-align: top;\n",
       "    }\n",
       "\n",
       "    .dataframe thead th {\n",
       "        text-align: right;\n",
       "    }\n",
       "</style>\n",
       "<table border=\"1\" class=\"dataframe\">\n",
       "  <thead>\n",
       "    <tr style=\"text-align: right;\">\n",
       "      <th></th>\n",
       "      <th>drug_id_top10</th>\n",
       "      <th>mse_top10</th>\n",
       "      <th>drug_id_bottom10</th>\n",
       "      <th>mse_bottom10</th>\n",
       "    </tr>\n",
       "  </thead>\n",
       "  <tbody>\n",
       "    <tr>\n",
       "      <th>0</th>\n",
       "      <td>1262</td>\n",
       "      <td>0.269010</td>\n",
       "      <td>1248</td>\n",
       "      <td>7.180334</td>\n",
       "    </tr>\n",
       "    <tr>\n",
       "      <th>1</th>\n",
       "      <td>266</td>\n",
       "      <td>0.291851</td>\n",
       "      <td>135</td>\n",
       "      <td>6.315710</td>\n",
       "    </tr>\n",
       "    <tr>\n",
       "      <th>2</th>\n",
       "      <td>150</td>\n",
       "      <td>0.301788</td>\n",
       "      <td>190</td>\n",
       "      <td>5.065923</td>\n",
       "    </tr>\n",
       "    <tr>\n",
       "      <th>3</th>\n",
       "      <td>1264</td>\n",
       "      <td>0.321767</td>\n",
       "      <td>268</td>\n",
       "      <td>4.938611</td>\n",
       "    </tr>\n",
       "    <tr>\n",
       "      <th>4</th>\n",
       "      <td>91</td>\n",
       "      <td>0.381167</td>\n",
       "      <td>346</td>\n",
       "      <td>4.889768</td>\n",
       "    </tr>\n",
       "  </tbody>\n",
       "</table>\n",
       "</div>"
      ],
      "text/plain": [
       "   drug_id_top10  mse_top10  drug_id_bottom10  mse_bottom10\n",
       "0           1262   0.269010              1248      7.180334\n",
       "1            266   0.291851               135      6.315710\n",
       "2            150   0.301788               190      5.065923\n",
       "3           1264   0.321767               268      4.938611\n",
       "4             91   0.381167               346      4.889768"
      ]
     },
     "metadata": {},
     "output_type": "display_data"
    },
    {
     "data": {
      "text/html": [
       "<div>\n",
       "<style scoped>\n",
       "    .dataframe tbody tr th:only-of-type {\n",
       "        vertical-align: middle;\n",
       "    }\n",
       "\n",
       "    .dataframe tbody tr th {\n",
       "        vertical-align: top;\n",
       "    }\n",
       "\n",
       "    .dataframe thead th {\n",
       "        text-align: right;\n",
       "    }\n",
       "</style>\n",
       "<table border=\"1\" class=\"dataframe\">\n",
       "  <thead>\n",
       "    <tr style=\"text-align: right;\">\n",
       "      <th></th>\n",
       "      <th>drug_id_top10</th>\n",
       "      <th>mse_top10</th>\n",
       "      <th>drug_id_bottom10</th>\n",
       "      <th>mse_bottom10</th>\n",
       "    </tr>\n",
       "  </thead>\n",
       "  <tbody>\n",
       "    <tr>\n",
       "      <th>0</th>\n",
       "      <td>1262</td>\n",
       "      <td>0.222263</td>\n",
       "      <td>135</td>\n",
       "      <td>6.373095</td>\n",
       "    </tr>\n",
       "    <tr>\n",
       "      <th>1</th>\n",
       "      <td>266</td>\n",
       "      <td>0.236688</td>\n",
       "      <td>1248</td>\n",
       "      <td>6.334078</td>\n",
       "    </tr>\n",
       "    <tr>\n",
       "      <th>2</th>\n",
       "      <td>150</td>\n",
       "      <td>0.256308</td>\n",
       "      <td>268</td>\n",
       "      <td>5.119414</td>\n",
       "    </tr>\n",
       "    <tr>\n",
       "      <th>3</th>\n",
       "      <td>1264</td>\n",
       "      <td>0.277344</td>\n",
       "      <td>346</td>\n",
       "      <td>4.779838</td>\n",
       "    </tr>\n",
       "    <tr>\n",
       "      <th>4</th>\n",
       "      <td>91</td>\n",
       "      <td>0.335878</td>\n",
       "      <td>190</td>\n",
       "      <td>4.731712</td>\n",
       "    </tr>\n",
       "  </tbody>\n",
       "</table>\n",
       "</div>"
      ],
      "text/plain": [
       "   drug_id_top10  mse_top10  drug_id_bottom10  mse_bottom10\n",
       "0           1262   0.222263               135      6.373095\n",
       "1            266   0.236688              1248      6.334078\n",
       "2            150   0.256308               268      5.119414\n",
       "3           1264   0.277344               346      4.779838\n",
       "4             91   0.335878               190      4.731712"
      ]
     },
     "metadata": {},
     "output_type": "display_data"
    },
    {
     "data": {
      "text/html": [
       "<div>\n",
       "<style scoped>\n",
       "    .dataframe tbody tr th:only-of-type {\n",
       "        vertical-align: middle;\n",
       "    }\n",
       "\n",
       "    .dataframe tbody tr th {\n",
       "        vertical-align: top;\n",
       "    }\n",
       "\n",
       "    .dataframe thead th {\n",
       "        text-align: right;\n",
       "    }\n",
       "</style>\n",
       "<table border=\"1\" class=\"dataframe\">\n",
       "  <thead>\n",
       "    <tr style=\"text-align: right;\">\n",
       "      <th></th>\n",
       "      <th>drug_id_top10</th>\n",
       "      <th>mse_top10</th>\n",
       "      <th>drug_id_bottom10</th>\n",
       "      <th>mse_bottom10</th>\n",
       "    </tr>\n",
       "  </thead>\n",
       "  <tbody>\n",
       "    <tr>\n",
       "      <th>0</th>\n",
       "      <td>1262</td>\n",
       "      <td>0.223508</td>\n",
       "      <td>135</td>\n",
       "      <td>6.376384</td>\n",
       "    </tr>\n",
       "    <tr>\n",
       "      <th>1</th>\n",
       "      <td>266</td>\n",
       "      <td>0.238326</td>\n",
       "      <td>1248</td>\n",
       "      <td>6.363803</td>\n",
       "    </tr>\n",
       "    <tr>\n",
       "      <th>2</th>\n",
       "      <td>150</td>\n",
       "      <td>0.257682</td>\n",
       "      <td>268</td>\n",
       "      <td>5.102002</td>\n",
       "    </tr>\n",
       "    <tr>\n",
       "      <th>3</th>\n",
       "      <td>1264</td>\n",
       "      <td>0.285128</td>\n",
       "      <td>3</td>\n",
       "      <td>4.879453</td>\n",
       "    </tr>\n",
       "    <tr>\n",
       "      <th>4</th>\n",
       "      <td>91</td>\n",
       "      <td>0.332634</td>\n",
       "      <td>346</td>\n",
       "      <td>4.736399</td>\n",
       "    </tr>\n",
       "  </tbody>\n",
       "</table>\n",
       "</div>"
      ],
      "text/plain": [
       "   drug_id_top10  mse_top10  drug_id_bottom10  mse_bottom10\n",
       "0           1262   0.223508               135      6.376384\n",
       "1            266   0.238326              1248      6.363803\n",
       "2            150   0.257682               268      5.102002\n",
       "3           1264   0.285128                 3      4.879453\n",
       "4             91   0.332634               346      4.736399"
      ]
     },
     "metadata": {},
     "output_type": "display_data"
    }
   ],
   "source": [
    "display(part1_mse.head())\n",
    "display(pca_mse.head())\n",
    "display(racs_mse.head())"
   ]
  },
  {
   "cell_type": "code",
   "execution_count": 75,
   "metadata": {},
   "outputs": [],
   "source": [
    "part1_mse.to_csv('data/part1_mse.csv', index=False)\n",
    "pca_mse.to_csv('data/pca_mse.csv', index=False)\n",
    "racs_mse.to_csv('data/racs_mse.csv', index=False)"
   ]
  },
  {
   "cell_type": "code",
   "execution_count": 81,
   "metadata": {},
   "outputs": [],
   "source": [
    "# save as latex for PDF report\n",
    "with open('data/temp.txt', 'wt') as f:\n",
    "    f.write(racs_mse.to_latex(index=False))"
   ]
  }
 ],
 "metadata": {
  "kernelspec": {
   "display_name": "Python 3",
   "language": "python",
   "name": "python3"
  },
  "language_info": {
   "codemirror_mode": {
    "name": "ipython",
    "version": 3
   },
   "file_extension": ".py",
   "mimetype": "text/x-python",
   "name": "python",
   "nbconvert_exporter": "python",
   "pygments_lexer": "ipython3",
   "version": "3.5.2"
  }
 },
 "nbformat": 4,
 "nbformat_minor": 2
}
