{
 "cells": [
  {
   "cell_type": "code",
   "execution_count": 1,
   "metadata": {},
   "outputs": [],
   "source": [
    "import numpy as np\n",
    "import pandas as pd\n",
    "import seaborn as sns\n",
    "import matplotlib.pyplot as plt\n",
    "\n",
    "from IPython.display import display\n",
    "\n",
    "from sklearn import preprocessing\n",
    "from sklearn.linear_model import ElasticNet\n",
    "from sklearn.multiclass import OneVsOneClassifier\n",
    "from sklearn.neighbors import KNeighborsClassifier\n",
    "from sklearn.model_selection import cross_val_predict, cross_val_score\n",
    "from sklearn.metrics import accuracy_score, mean_squared_error, \\\n",
    "roc_auc_score"
   ]
  },
  {
   "cell_type": "code",
   "execution_count": 2,
   "metadata": {},
   "outputs": [],
   "source": [
    "cell_line_df = pd.read_csv('data/cell_line.csv')"
   ]
  },
  {
   "cell_type": "code",
   "execution_count": 3,
   "metadata": {},
   "outputs": [],
   "source": [
    "drug_df = pd.read_csv('data/IC50.csv')"
   ]
  },
  {
   "cell_type": "code",
   "execution_count": 4,
   "metadata": {},
   "outputs": [],
   "source": [
    "# for recording accuracy, mse, auc\n",
    "result_df = pd.DataFrame({\n",
    "    'drug_id': drug_df['drug_id'].unique(),\n",
    "})\n",
    "result_df['accuracy'] = np.nan\n",
    "result_df['mse'] = np.nan\n",
    "result_df['auc'] = np.nan"
   ]
  },
  {
   "cell_type": "markdown",
   "metadata": {},
   "source": [
    "# Part 2. WES da\n",
    "Quantize `log_IC50` into 3 bins: `sensitive, intermediate, resistant`. Call this column `sensitivity`.\n",
    "\n",
    "The setting is similar to Part 1 where I used `PCA(n_components=0.8)`, `Elastic Net` and `K-Nearest Neighbors`."
   ]
  },
  {
   "cell_type": "code",
   "execution_count": null,
   "metadata": {},
   "outputs": [],
   "source": [
    "for drug_id in drug_df['drug_id'].unique():\n",
    "    log_IC50 = drug_df.loc[drug_df['drug_id'] == drug_id, 'log_IC50']\n",
    "    # quantization\n",
    "    sensitivity = pd.cut(log_IC50, 3, \n",
    "                         labels=['sensitive', 'intermediate', 'resistant'])\n",
    "    drug_df.loc[drug_df['drug_id'] == drug_id, \n",
    "                'sensitivity'] = sensitivity"
   ]
  },
  {
   "cell_type": "code",
   "execution_count": null,
   "metadata": {},
   "outputs": [],
   "source": [
    "display(drug_df.head())\n",
    "display(drug_df.sample(n=5))"
   ]
  },
  {
   "cell_type": "code",
   "execution_count": null,
   "metadata": {},
   "outputs": [],
   "source": [
    "drug_df['predicted_log_IC50'] = np.nan\n",
    "drug_df['predicted_sensitivity'] = np.nan"
   ]
  },
  {
   "cell_type": "markdown",
   "metadata": {},
   "source": [
    "## Fit Models"
   ]
  },
  {
   "cell_type": "code",
   "execution_count": null,
   "metadata": {
    "scrolled": false
   },
   "outputs": [],
   "source": [
    "for drug_id in drug_df['drug_id'].unique():\n",
    "    idx1 = drug_df.loc[drug_df['drug_id'] == drug_id, 'cell_line_id']\n",
    "    idx2 = cell_line_df.loc[cell_line_df['cell_line_id'].isin(idx1), \n",
    "                            'cell_line_id']\n",
    "    final_idx = set(idx1).intersection(set(idx2))\n",
    "    select_drug_df = ((drug_df['drug_id'] == drug_id) &\n",
    "                      (drug_df['cell_line_id'].isin(final_idx)))\n",
    "\n",
    "    X = cell_line_df.loc[cell_line_df['cell_line_id'].isin(final_idx)].copy()\n",
    "    # if duplicated cell lines, keep the first one\n",
    "    X.drop_duplicates(subset=['cell_line_id'], inplace=True)\n",
    "    X.drop(columns='cell_line_id', inplace=True)\n",
    "    \n",
    "    # regression\n",
    "    y = drug_df.loc[select_drug_df, 'log_IC50']\n",
    "    \n",
    "    elastic_net = ElasticNet()\n",
    "    y_pred = cross_val_predict(elastic_net, X, y, cv=5)\n",
    "    drug_df.loc[select_drug_df, 'predicted_log_IC50'] = y_pred\n",
    "    \n",
    "    mse = mean_squared_error(y, y_pred)\n",
    "    result_df.loc[result_df['drug_id'] == drug_id, 'mse'] = mse\n",
    "    \n",
    "    # classification\n",
    "    sensitivity = drug_df.loc[select_drug_df, 'sensitivity']\n",
    "    label_encoder = preprocessing.LabelEncoder()\n",
    "    y = label_encoder.fit_transform(sensitivity)\n",
    "    \n",
    "    knn = KNeighborsClassifier()\n",
    "    y_pred = cross_val_predict(knn, X, y, cv=5)\n",
    "    y_pred_proba = cross_val_predict(knn, X, y, cv=5,\n",
    "                                     method='predict_proba')\n",
    "    \n",
    "    predicted_sensitivity = label_encoder.inverse_transform(y_pred)\n",
    "    drug_df.loc[select_drug_df, 'predicted_sensitivity'] = predicted_sensitivity\n",
    "    \n",
    "    accuracy = accuracy_score(y, y_pred)\n",
    "    result_df.loc[result_df['drug_id'] == drug_id, 'accuracy'] = accuracy\n",
    "    \n",
    "    auc = roc_auc_score(y, y_pred_proba, multi_class='ovo')\n",
    "    result_df.loc[result_df['drug_id'] == drug_id, 'auc'] = auc\n",
    "    \n",
    "    print('Drug id: {}, MSE: {}, accuracy: {}, AUC: {}'.format(\n",
    "        drug_id, mse, accuracy, auc))"
   ]
  },
  {
   "cell_type": "code",
   "execution_count": null,
   "metadata": {},
   "outputs": [],
   "source": [
    "drug_df.to_csv('data/drug_df.csv', index=False)\n",
    "result_df.to_csv('data/result_df.csv', index=False)"
   ]
  },
  {
   "cell_type": "code",
   "execution_count": null,
   "metadata": {},
   "outputs": [],
   "source": []
  },
  {
   "cell_type": "code",
   "execution_count": null,
   "metadata": {},
   "outputs": [],
   "source": [
    "drug_df.sample(n=5)"
   ]
  },
  {
   "cell_type": "code",
   "execution_count": null,
   "metadata": {
    "scrolled": true
   },
   "outputs": [],
   "source": [
    "# top 10 and bottom 10\n",
    "display(result_df.nsmallest(10, 'mse')[['drug_id', 'mse']])\n",
    "display(result_df.nlargest(10, 'mse')[['drug_id', 'mse']])"
   ]
  }
 ],
 "metadata": {
  "kernelspec": {
   "display_name": "Python 3",
   "language": "python",
   "name": "python3"
  },
  "language_info": {
   "codemirror_mode": {
    "name": "ipython",
    "version": 3
   },
   "file_extension": ".py",
   "mimetype": "text/x-python",
   "name": "python",
   "nbconvert_exporter": "python",
   "pygments_lexer": "ipython3",
   "version": "3.5.2"
  }
 },
 "nbformat": 4,
 "nbformat_minor": 2
}
