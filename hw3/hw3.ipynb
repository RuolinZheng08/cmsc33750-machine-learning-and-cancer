{
 "cells": [
  {
   "cell_type": "code",
   "execution_count": 53,
   "metadata": {},
   "outputs": [],
   "source": [
    "import numpy as np\n",
    "import pandas as pd\n",
    "import seaborn as sns\n",
    "import matplotlib.pyplot as plt\n",
    "\n",
    "from IPython.display import display\n",
    "\n",
    "from sklearn import preprocessing\n",
    "from sklearn.linear_model import ElasticNet\n",
    "from sklearn.multiclass import OneVsOneClassifier\n",
    "from sklearn.neighbors import KNeighborsClassifier\n",
    "from sklearn.model_selection import cross_val_predict, cross_val_score\n",
    "from sklearn.metrics import accuracy_score, mean_squared_error, \\\n",
    "roc_auc_score"
   ]
  },
  {
   "cell_type": "code",
   "execution_count": 2,
   "metadata": {},
   "outputs": [],
   "source": [
    "cell_line_df = pd.read_csv('data/cell_line.csv')"
   ]
  },
  {
   "cell_type": "code",
   "execution_count": 34,
   "metadata": {},
   "outputs": [],
   "source": [
    "drug_df = pd.read_csv('data/IC50.csv')"
   ]
  },
  {
   "cell_type": "code",
   "execution_count": 35,
   "metadata": {},
   "outputs": [],
   "source": [
    "# for recording accuracy, mse, auc\n",
    "result_df = pd.DataFrame({\n",
    "    'drug_id': drug_df['drug_id'].unique(),\n",
    "})\n",
    "result_df['accuracy'] = np.nan\n",
    "result_df['mse'] = np.nan\n",
    "result_df['auc'] = np.nan"
   ]
  },
  {
   "cell_type": "markdown",
   "metadata": {},
   "source": [
    "# Part 1. Regression & Classification\n",
    "Quantize `log_IC50` into 3 bins: `sensitive, intermediate, resistant`. Call this column `sensitivity`.\n",
    "\n",
    "I used `Elastic Net` and `K-Nearest Neighbors`."
   ]
  },
  {
   "cell_type": "code",
   "execution_count": 36,
   "metadata": {},
   "outputs": [],
   "source": [
    "for drug_id in drug_df['drug_id'].unique():\n",
    "    log_IC50 = drug_df.loc[drug_df['drug_id'] == drug_id, 'log_IC50']\n",
    "    # quantization\n",
    "    sensitivity = pd.cut(log_IC50, 3, \n",
    "                         labels=['sensitive', 'intermediate', 'resistant'])\n",
    "    drug_df.loc[drug_df['drug_id'] == drug_id, \n",
    "                'sensitivity'] = sensitivity"
   ]
  },
  {
   "cell_type": "code",
   "execution_count": 37,
   "metadata": {},
   "outputs": [
    {
     "data": {
      "text/html": [
       "<div>\n",
       "<style scoped>\n",
       "    .dataframe tbody tr th:only-of-type {\n",
       "        vertical-align: middle;\n",
       "    }\n",
       "\n",
       "    .dataframe tbody tr th {\n",
       "        vertical-align: top;\n",
       "    }\n",
       "\n",
       "    .dataframe thead th {\n",
       "        text-align: right;\n",
       "    }\n",
       "</style>\n",
       "<table border=\"1\" class=\"dataframe\">\n",
       "  <thead>\n",
       "    <tr style=\"text-align: right;\">\n",
       "      <th></th>\n",
       "      <th>drug_id</th>\n",
       "      <th>cell_line_id</th>\n",
       "      <th>log_IC50</th>\n",
       "      <th>sensitivity</th>\n",
       "    </tr>\n",
       "  </thead>\n",
       "  <tbody>\n",
       "    <tr>\n",
       "      <th>0</th>\n",
       "      <td>1</td>\n",
       "      <td>683665</td>\n",
       "      <td>2.44</td>\n",
       "      <td>resistant</td>\n",
       "    </tr>\n",
       "    <tr>\n",
       "      <th>1</th>\n",
       "      <td>1</td>\n",
       "      <td>684055</td>\n",
       "      <td>3.34</td>\n",
       "      <td>resistant</td>\n",
       "    </tr>\n",
       "    <tr>\n",
       "      <th>2</th>\n",
       "      <td>1</td>\n",
       "      <td>684057</td>\n",
       "      <td>3.57</td>\n",
       "      <td>resistant</td>\n",
       "    </tr>\n",
       "    <tr>\n",
       "      <th>3</th>\n",
       "      <td>1</td>\n",
       "      <td>684059</td>\n",
       "      <td>3.19</td>\n",
       "      <td>resistant</td>\n",
       "    </tr>\n",
       "    <tr>\n",
       "      <th>4</th>\n",
       "      <td>1</td>\n",
       "      <td>684062</td>\n",
       "      <td>2.46</td>\n",
       "      <td>resistant</td>\n",
       "    </tr>\n",
       "  </tbody>\n",
       "</table>\n",
       "</div>"
      ],
      "text/plain": [
       "   drug_id  cell_line_id  log_IC50 sensitivity\n",
       "0        1        683665      2.44   resistant\n",
       "1        1        684055      3.34   resistant\n",
       "2        1        684057      3.57   resistant\n",
       "3        1        684059      3.19   resistant\n",
       "4        1        684062      2.46   resistant"
      ]
     },
     "metadata": {},
     "output_type": "display_data"
    },
    {
     "data": {
      "text/html": [
       "<div>\n",
       "<style scoped>\n",
       "    .dataframe tbody tr th:only-of-type {\n",
       "        vertical-align: middle;\n",
       "    }\n",
       "\n",
       "    .dataframe tbody tr th {\n",
       "        vertical-align: top;\n",
       "    }\n",
       "\n",
       "    .dataframe thead th {\n",
       "        text-align: right;\n",
       "    }\n",
       "</style>\n",
       "<table border=\"1\" class=\"dataframe\">\n",
       "  <thead>\n",
       "    <tr style=\"text-align: right;\">\n",
       "      <th></th>\n",
       "      <th>drug_id</th>\n",
       "      <th>cell_line_id</th>\n",
       "      <th>log_IC50</th>\n",
       "      <th>sensitivity</th>\n",
       "    </tr>\n",
       "  </thead>\n",
       "  <tbody>\n",
       "    <tr>\n",
       "      <th>185956</th>\n",
       "      <td>1072</td>\n",
       "      <td>1290768</td>\n",
       "      <td>4.56</td>\n",
       "      <td>resistant</td>\n",
       "    </tr>\n",
       "    <tr>\n",
       "      <th>203727</th>\n",
       "      <td>1239</td>\n",
       "      <td>971773</td>\n",
       "      <td>0.11</td>\n",
       "      <td>sensitive</td>\n",
       "    </tr>\n",
       "    <tr>\n",
       "      <th>47677</th>\n",
       "      <td>184</td>\n",
       "      <td>907175</td>\n",
       "      <td>3.48</td>\n",
       "      <td>resistant</td>\n",
       "    </tr>\n",
       "    <tr>\n",
       "      <th>69966</th>\n",
       "      <td>223</td>\n",
       "      <td>1240208</td>\n",
       "      <td>2.24</td>\n",
       "      <td>resistant</td>\n",
       "    </tr>\n",
       "    <tr>\n",
       "      <th>189223</th>\n",
       "      <td>1133</td>\n",
       "      <td>906838</td>\n",
       "      <td>2.46</td>\n",
       "      <td>intermediate</td>\n",
       "    </tr>\n",
       "  </tbody>\n",
       "</table>\n",
       "</div>"
      ],
      "text/plain": [
       "        drug_id  cell_line_id  log_IC50   sensitivity\n",
       "185956     1072       1290768      4.56     resistant\n",
       "203727     1239        971773      0.11     sensitive\n",
       "47677       184        907175      3.48     resistant\n",
       "69966       223       1240208      2.24     resistant\n",
       "189223     1133        906838      2.46  intermediate"
      ]
     },
     "metadata": {},
     "output_type": "display_data"
    }
   ],
   "source": [
    "display(drug_df.head())\n",
    "display(drug_df.sample(n=5))"
   ]
  },
  {
   "cell_type": "code",
   "execution_count": 38,
   "metadata": {},
   "outputs": [],
   "source": [
    "drug_df['predicted_log_IC50'] = np.nan\n",
    "drug_df['predicted_sensitivity'] = np.nan"
   ]
  },
  {
   "cell_type": "markdown",
   "metadata": {},
   "source": [
    "## Fit Models"
   ]
  },
  {
   "cell_type": "code",
   "execution_count": null,
   "metadata": {
    "scrolled": false
   },
   "outputs": [
    {
     "name": "stdout",
     "output_type": "stream",
     "text": [
      "Drug id: 1, MSE: 1.2434051506334174, accuracy: 0.5849056603773585, AUC: 0.589435836264589\n",
      "Drug id: 3, MSE: 4.19385051817043, accuracy: 0.5234159779614325, AUC: 0.6317323829430367\n",
      "Drug id: 5, MSE: 2.3277872671269546, accuracy: 0.6240601503759399, AUC: 0.7234948143064135\n",
      "Drug id: 6, MSE: 0.8329708434006754, accuracy: 0.7125307125307125, AUC: 0.5429447135815061\n",
      "Drug id: 9, MSE: 2.1374331692525126, accuracy: 0.5536159600997507, AUC: 0.5124224955337695\n",
      "Drug id: 11, MSE: 3.3678002010541412, accuracy: 0.505, AUC: 0.5732153024253179\n",
      "Drug id: 17, MSE: 0.8193400540655413, accuracy: 0.47103274559193953, AUC: 0.5953066840896492\n"
     ]
    }
   ],
   "source": [
    "for drug_id in drug_df['drug_id'].unique():\n",
    "    idx1 = drug_df.loc[drug_df['drug_id'] == drug_id, 'cell_line_id']\n",
    "    idx2 = cell_line_df.loc[cell_line_df['cell_line_id'].isin(idx1), \n",
    "                            'cell_line_id']\n",
    "    final_idx = set(idx1).intersection(set(idx2))\n",
    "    select_drug_df = ((drug_df['drug_id'] == drug_id) &\n",
    "                      (drug_df['cell_line_id'].isin(final_idx)))\n",
    "\n",
    "    X = cell_line_df.loc[cell_line_df['cell_line_id'].isin(final_idx)].copy()\n",
    "    # if duplicated cell lines, keep the first one\n",
    "    X.drop_duplicates(subset=['cell_line_id'], inplace=True)\n",
    "    X.drop(columns='cell_line_id', inplace=True)\n",
    "    \n",
    "    # regression\n",
    "    y = drug_df.loc[select_drug_df, 'log_IC50']\n",
    "    \n",
    "    elastic_net = ElasticNet()\n",
    "    y_pred = cross_val_predict(elastic_net, X, y, cv=5)\n",
    "    drug_df.loc[select_drug_df, 'predicted_log_IC50'] = y_pred\n",
    "    \n",
    "    mse = mean_squared_error(y, y_pred)\n",
    "    result_df.loc[result_df['drug_id'] == drug_id, 'mse'] = mse\n",
    "    \n",
    "    # classification\n",
    "    sensitivity = drug_df.loc[select_drug_df, 'sensitivity']\n",
    "    label_encoder = preprocessing.LabelEncoder()\n",
    "    y = label_encoder.fit_transform(sensitivity)\n",
    "    \n",
    "    knn = KNeighborsClassifier()\n",
    "    y_pred = cross_val_predict(knn, X, y, cv=5)\n",
    "    y_pred_proba = cross_val_predict(knn, X, y, cv=5,\n",
    "                                     method='predict_proba')\n",
    "    \n",
    "    predicted_sensitivity = label_encoder.inverse_transform(y_pred)\n",
    "    drug_df.loc[select_drug_df, 'predicted_sensitivity'] = predicted_sensitivity\n",
    "    \n",
    "    accuracy = accuracy_score(y, y_pred)\n",
    "    result_df.loc[result_df['drug_id'] == drug_id, 'accuracy'] = accuracy\n",
    "    \n",
    "    auc = roc_auc_score(y, y_pred_proba, multi_class='ovo')\n",
    "    result_df.loc[result_df['drug_id'] == drug_id, 'auc'] = auc\n",
    "    \n",
    "    print('Drug id: {}, MSE: {}, accuracy: {}, AUC: {}'.format(\n",
    "        drug_id, mse, accuracy, auc))"
   ]
  },
  {
   "cell_type": "code",
   "execution_count": null,
   "metadata": {},
   "outputs": [],
   "source": [
    "drug_df.to_csv('data/drug_df.csv', index=False)\n",
    "result_df.to_csv('data/result_df.csv', index=False)"
   ]
  },
  {
   "cell_type": "code",
   "execution_count": null,
   "metadata": {},
   "outputs": [],
   "source": []
  },
  {
   "cell_type": "code",
   "execution_count": null,
   "metadata": {},
   "outputs": [],
   "source": [
    "drug_df.sample(n=5)"
   ]
  },
  {
   "cell_type": "code",
   "execution_count": null,
   "metadata": {
    "scrolled": true
   },
   "outputs": [],
   "source": [
    "# top 10 and bottom 10\n",
    "display(result_df.nsmallest(10, 'mse')[['drug_id', 'mse']])\n",
    "display(result_df.nlargest(10, 'mse')[['drug_id', 'mse']])"
   ]
  }
 ],
 "metadata": {
  "kernelspec": {
   "display_name": "Python 3",
   "language": "python",
   "name": "python3"
  },
  "language_info": {
   "codemirror_mode": {
    "name": "ipython",
    "version": 3
   },
   "file_extension": ".py",
   "mimetype": "text/x-python",
   "name": "python",
   "nbconvert_exporter": "python",
   "pygments_lexer": "ipython3",
   "version": "3.5.2"
  }
 },
 "nbformat": 4,
 "nbformat_minor": 2
}
