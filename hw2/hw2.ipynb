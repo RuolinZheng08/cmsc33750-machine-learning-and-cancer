{
 "cells": [
  {
   "cell_type": "markdown",
   "metadata": {},
   "source": [
    "# RNA-Seq Clustering"
   ]
  },
  {
   "cell_type": "markdown",
   "metadata": {},
   "source": [
    "## Getting Data from GDC\n",
    "\n",
    "I used two different queries to look up files for TP and NT on GDC (advanced search), added the files to cart, and downloaded separate manifest files for TP and NT. There are 500 files in the TP manifest and 44 files in the NT manifest.\n",
    "\n",
    "The two queries differ in that the first specified `cases.samples.sample_type in [\"primary tumor\"]` and the second `cases.samples.sample_type in [\"solid tissue normal\"]`.\n",
    "\n",
    "The main body of the query is the same as what I used in HW1:\n",
    "```\n",
    "cases.project.project_id in [\"TCGA-HNSC\"] and files.analysis.workflow_type in [\"HTSeq - Counts\"] and files.data_category in [\"transcriptome profiling\"] and files.experimental_strategy in [\"RNA-Seq\"]\n",
    "```\n",
    "\n",
    "I then extracted the UUIDs from the manifest file, constructed a JSON request body, and made a POST request to GDC using curl to download the files. The API endpoint for downloading files is `https://api.gdc.cancer.gov/data`. The download took about 5 minutes and has about 160 MB.\n",
    "\n",
    "I put PT `htseq.counts` data into `data/primary_tumor/` and NT data into `data/solid_tissue_normal/`."
   ]
  },
  {
   "cell_type": "code",
   "execution_count": 152,
   "metadata": {},
   "outputs": [],
   "source": [
    "import os\n",
    "import json\n",
    "import numpy as np\n",
    "import pandas as pd\n",
    "import matplotlib.pyplot as plt\n",
    "\n",
    "from sklearn.manifold import TSNE\n",
    "from sklearn.cluster import KMeans\n",
    "from sklearn.decomposition import PCA\n",
    "from sklearn.preprocessing import Normalizer # normalize data\n",
    "\n",
    "from IPython.display import display"
   ]
  },
  {
   "cell_type": "code",
   "execution_count": 21,
   "metadata": {},
   "outputs": [],
   "source": [
    "def write_json_file(manifest):\n",
    "    with open(manifest, 'rt') as f:\n",
    "        lines = f.readlines()[1:] # skip header\n",
    "    uuids = [line.split('\\t')[0] for line in lines]\n",
    "    jso = {'ids': uuids}\n",
    "    jso_fname = manifest.split('.manifest.txt')[0] + '.json'\n",
    "    with open(jso_fname, 'wt') as f:\n",
    "        json.dump(jso, f)"
   ]
  },
  {
   "cell_type": "code",
   "execution_count": 22,
   "metadata": {},
   "outputs": [],
   "source": [
    "write_json_file('data/primary_tumor.manifest.txt')\n",
    "write_json_file('data/solid_tissue_normal.manifest.txt')"
   ]
  },
  {
   "cell_type": "code",
   "execution_count": 24,
   "metadata": {},
   "outputs": [
    {
     "name": "stdout",
     "output_type": "stream",
     "text": [
      "  % Total    % Received % Xferd  Average Speed   Time    Time     Time  Current\n",
      "                                 Dload  Upload   Total   Spent    Left  Speed\n",
      "100  119M    0  119M  100 20009   312k     51  0:06:32  0:06:29  0:00:03  303k:37  0:00:37 --:--:--  254k00 20009   188k    308  0:01:04  0:01:04 --:--:--  251k5M  100 20009   304k     59  0:05:39  0:05:35  0:00:04  137k\n",
      "curl: Saved to filename 'gdc_download_20201014_205700.202302.tar.gz'\n"
     ]
    }
   ],
   "source": [
    "!curl --remote-name --remote-header-name \\\n",
    "--request POST --header 'Content-Type: application/json' \\\n",
    "--data @data/primary_tumor.json 'https://api.gdc.cancer.gov/data'"
   ]
  },
  {
   "cell_type": "code",
   "execution_count": 25,
   "metadata": {
    "scrolled": true
   },
   "outputs": [
    {
     "name": "stdout",
     "output_type": "stream",
     "text": [
      "  % Total    % Received % Xferd  Average Speed   Time    Time     Time  Current\n",
      "                                 Dload  Upload   Total   Spent    Left  Speed\n",
      "100 10.4M    0 10.4M  100  1769   234k     38  0:00:46  0:00:45  0:00:01  240k0  1769  99892    442  0:00:04  0:00:04 --:--:-- 99920\n",
      "curl: Saved to filename 'gdc_download_20201014_210309.859494.tar.gz'\n"
     ]
    }
   ],
   "source": [
    "!curl --remote-name --remote-header-name \\\n",
    "--request POST --header 'Content-Type: application/json' \\\n",
    "--data @data/solid_tissue_normal.json 'https://api.gdc.cancer.gov/data'"
   ]
  },
  {
   "cell_type": "markdown",
   "metadata": {},
   "source": [
    "# Reading and Cleaning Data\n",
    "\n",
    "We remove non-gene columns: `__no_feature, __ambiguous, __too_low_aQual, __not_aligned, __alignment_not_unique`\n",
    "\n",
    "Read data from the two directors as a $N \\times P$ matrix\n",
    "\n",
    "$N$: num rows/samples/observations/patients  \n",
    "$P$: num columns/features/genes"
   ]
  },
  {
   "cell_type": "code",
   "execution_count": 64,
   "metadata": {},
   "outputs": [],
   "source": [
    "def read_data_matrix(directories):\n",
    "    \"\"\"\n",
    "    returns P * N dataframe\n",
    "    \"\"\"\n",
    "    dataframes = []\n",
    "    sample_idx = 0\n",
    "    for idx, directory in enumerate(directories):\n",
    "        files = os.listdir(directory)\n",
    "        for f in files:\n",
    "            sample_idx += 1\n",
    "            # drop non-gene columns and 0\n",
    "            df = pd.read_csv(os.path.join(directory, f), \n",
    "                             sep='\\t', header=None, \n",
    "                             index_col=0, # use gene name as index\n",
    "                             names=['gene', \n",
    "                                    'sample{}'.format(sample_idx)])\n",
    "            df.drop(['__no_feature', '__ambiguous', \n",
    "                     '__too_low_aQual', '__not_aligned', \n",
    "                     '__alignment_not_unique'], inplace=True)\n",
    "            df.replace(0, np.nan, inplace=True)\n",
    "            df.dropna(inplace=True)\n",
    "            \n",
    "            dataframes.append(df)\n",
    "    ret_df = pd.concat(dataframes, axis=1, join='inner')\n",
    "    return ret_df"
   ]
  },
  {
   "cell_type": "code",
   "execution_count": 68,
   "metadata": {},
   "outputs": [],
   "source": [
    "raw_data = read_data_matrix(['data/primary_tumor', \n",
    "                             'data/solid_tissue_normal'])"
   ]
  },
  {
   "cell_type": "code",
   "execution_count": 116,
   "metadata": {},
   "outputs": [],
   "source": [
    "# data cleaning\n",
    "data = raw_data.T # N samples * P genes\n",
    "data.columns.name = 'sample'\n",
    "data.reset_index(inplace=True)\n",
    "data.drop(columns=['index'], inplace=True)\n",
    "# add disease status label column, PT vs. TN\n",
    "data['disease'] = \\\n",
    "['PT' for _ in range(len(os.listdir('data/primary_tumor')))] + \\\n",
    "['TN' for _ in range(len(os.listdir('data/solid_tissue_normal')))]"
   ]
  },
  {
   "cell_type": "code",
   "execution_count": null,
   "metadata": {},
   "outputs": [],
   "source": [
    "data.to_csv('data/clean/data.csv')"
   ]
  },
  {
   "cell_type": "code",
   "execution_count": 117,
   "metadata": {
    "scrolled": true
   },
   "outputs": [
    {
     "data": {
      "text/html": [
       "<div>\n",
       "<style scoped>\n",
       "    .dataframe tbody tr th:only-of-type {\n",
       "        vertical-align: middle;\n",
       "    }\n",
       "\n",
       "    .dataframe tbody tr th {\n",
       "        vertical-align: top;\n",
       "    }\n",
       "\n",
       "    .dataframe thead th {\n",
       "        text-align: right;\n",
       "    }\n",
       "</style>\n",
       "<table border=\"1\" class=\"dataframe\">\n",
       "  <thead>\n",
       "    <tr style=\"text-align: right;\">\n",
       "      <th>sample</th>\n",
       "      <th>ENSG00000000003.13</th>\n",
       "      <th>ENSG00000000419.11</th>\n",
       "      <th>ENSG00000000457.12</th>\n",
       "      <th>ENSG00000000460.15</th>\n",
       "      <th>ENSG00000000938.11</th>\n",
       "      <th>ENSG00000000971.14</th>\n",
       "      <th>ENSG00000001036.12</th>\n",
       "      <th>ENSG00000001084.9</th>\n",
       "      <th>ENSG00000001167.13</th>\n",
       "      <th>ENSG00000001460.16</th>\n",
       "      <th>...</th>\n",
       "      <th>ENSG00000281207.1</th>\n",
       "      <th>ENSG00000281332.1</th>\n",
       "      <th>ENSG00000281344.1</th>\n",
       "      <th>ENSG00000281357.1</th>\n",
       "      <th>ENSG00000281404.1</th>\n",
       "      <th>ENSG00000281406.1</th>\n",
       "      <th>ENSG00000281490.1</th>\n",
       "      <th>ENSG00000281501.1</th>\n",
       "      <th>ENSG00000281649.1</th>\n",
       "      <th>disease</th>\n",
       "    </tr>\n",
       "  </thead>\n",
       "  <tbody>\n",
       "    <tr>\n",
       "      <th>0</th>\n",
       "      <td>2254.0</td>\n",
       "      <td>1268.0</td>\n",
       "      <td>689.0</td>\n",
       "      <td>979.0</td>\n",
       "      <td>108.0</td>\n",
       "      <td>1035.0</td>\n",
       "      <td>2006.0</td>\n",
       "      <td>21315.0</td>\n",
       "      <td>1591.0</td>\n",
       "      <td>1181.0</td>\n",
       "      <td>...</td>\n",
       "      <td>15.0</td>\n",
       "      <td>88.0</td>\n",
       "      <td>76.0</td>\n",
       "      <td>20.0</td>\n",
       "      <td>60.0</td>\n",
       "      <td>256.0</td>\n",
       "      <td>196.0</td>\n",
       "      <td>24.0</td>\n",
       "      <td>2765.0</td>\n",
       "      <td>PT</td>\n",
       "    </tr>\n",
       "    <tr>\n",
       "      <th>1</th>\n",
       "      <td>3113.0</td>\n",
       "      <td>2076.0</td>\n",
       "      <td>944.0</td>\n",
       "      <td>1223.0</td>\n",
       "      <td>159.0</td>\n",
       "      <td>6516.0</td>\n",
       "      <td>6214.0</td>\n",
       "      <td>3425.0</td>\n",
       "      <td>1628.0</td>\n",
       "      <td>859.0</td>\n",
       "      <td>...</td>\n",
       "      <td>35.0</td>\n",
       "      <td>111.0</td>\n",
       "      <td>105.0</td>\n",
       "      <td>14.0</td>\n",
       "      <td>42.0</td>\n",
       "      <td>160.0</td>\n",
       "      <td>113.0</td>\n",
       "      <td>63.0</td>\n",
       "      <td>3472.0</td>\n",
       "      <td>PT</td>\n",
       "    </tr>\n",
       "    <tr>\n",
       "      <th>2</th>\n",
       "      <td>6344.0</td>\n",
       "      <td>2938.0</td>\n",
       "      <td>494.0</td>\n",
       "      <td>631.0</td>\n",
       "      <td>144.0</td>\n",
       "      <td>569.0</td>\n",
       "      <td>4196.0</td>\n",
       "      <td>9345.0</td>\n",
       "      <td>2316.0</td>\n",
       "      <td>2505.0</td>\n",
       "      <td>...</td>\n",
       "      <td>26.0</td>\n",
       "      <td>115.0</td>\n",
       "      <td>106.0</td>\n",
       "      <td>22.0</td>\n",
       "      <td>161.0</td>\n",
       "      <td>118.0</td>\n",
       "      <td>59.0</td>\n",
       "      <td>74.0</td>\n",
       "      <td>2484.0</td>\n",
       "      <td>PT</td>\n",
       "    </tr>\n",
       "    <tr>\n",
       "      <th>3</th>\n",
       "      <td>1416.0</td>\n",
       "      <td>2329.0</td>\n",
       "      <td>801.0</td>\n",
       "      <td>777.0</td>\n",
       "      <td>199.0</td>\n",
       "      <td>1481.0</td>\n",
       "      <td>3352.0</td>\n",
       "      <td>37391.0</td>\n",
       "      <td>2832.0</td>\n",
       "      <td>744.0</td>\n",
       "      <td>...</td>\n",
       "      <td>7.0</td>\n",
       "      <td>307.0</td>\n",
       "      <td>11.0</td>\n",
       "      <td>33.0</td>\n",
       "      <td>28.0</td>\n",
       "      <td>307.0</td>\n",
       "      <td>142.0</td>\n",
       "      <td>54.0</td>\n",
       "      <td>3813.0</td>\n",
       "      <td>PT</td>\n",
       "    </tr>\n",
       "    <tr>\n",
       "      <th>4</th>\n",
       "      <td>2287.0</td>\n",
       "      <td>2782.0</td>\n",
       "      <td>629.0</td>\n",
       "      <td>464.0</td>\n",
       "      <td>341.0</td>\n",
       "      <td>7388.0</td>\n",
       "      <td>2413.0</td>\n",
       "      <td>7231.0</td>\n",
       "      <td>2224.0</td>\n",
       "      <td>1019.0</td>\n",
       "      <td>...</td>\n",
       "      <td>41.0</td>\n",
       "      <td>156.0</td>\n",
       "      <td>62.0</td>\n",
       "      <td>35.0</td>\n",
       "      <td>125.0</td>\n",
       "      <td>523.0</td>\n",
       "      <td>165.0</td>\n",
       "      <td>85.0</td>\n",
       "      <td>2676.0</td>\n",
       "      <td>PT</td>\n",
       "    </tr>\n",
       "  </tbody>\n",
       "</table>\n",
       "<p>5 rows × 14349 columns</p>\n",
       "</div>"
      ],
      "text/plain": [
       "sample  ENSG00000000003.13  ENSG00000000419.11  ENSG00000000457.12  \\\n",
       "0                   2254.0              1268.0               689.0   \n",
       "1                   3113.0              2076.0               944.0   \n",
       "2                   6344.0              2938.0               494.0   \n",
       "3                   1416.0              2329.0               801.0   \n",
       "4                   2287.0              2782.0               629.0   \n",
       "\n",
       "sample  ENSG00000000460.15  ENSG00000000938.11  ENSG00000000971.14  \\\n",
       "0                    979.0               108.0              1035.0   \n",
       "1                   1223.0               159.0              6516.0   \n",
       "2                    631.0               144.0               569.0   \n",
       "3                    777.0               199.0              1481.0   \n",
       "4                    464.0               341.0              7388.0   \n",
       "\n",
       "sample  ENSG00000001036.12  ENSG00000001084.9  ENSG00000001167.13  \\\n",
       "0                   2006.0            21315.0              1591.0   \n",
       "1                   6214.0             3425.0              1628.0   \n",
       "2                   4196.0             9345.0              2316.0   \n",
       "3                   3352.0            37391.0              2832.0   \n",
       "4                   2413.0             7231.0              2224.0   \n",
       "\n",
       "sample  ENSG00000001460.16  ...  ENSG00000281207.1  ENSG00000281332.1  \\\n",
       "0                   1181.0  ...               15.0               88.0   \n",
       "1                    859.0  ...               35.0              111.0   \n",
       "2                   2505.0  ...               26.0              115.0   \n",
       "3                    744.0  ...                7.0              307.0   \n",
       "4                   1019.0  ...               41.0              156.0   \n",
       "\n",
       "sample  ENSG00000281344.1  ENSG00000281357.1  ENSG00000281404.1  \\\n",
       "0                    76.0               20.0               60.0   \n",
       "1                   105.0               14.0               42.0   \n",
       "2                   106.0               22.0              161.0   \n",
       "3                    11.0               33.0               28.0   \n",
       "4                    62.0               35.0              125.0   \n",
       "\n",
       "sample  ENSG00000281406.1  ENSG00000281490.1  ENSG00000281501.1  \\\n",
       "0                   256.0              196.0               24.0   \n",
       "1                   160.0              113.0               63.0   \n",
       "2                   118.0               59.0               74.0   \n",
       "3                   307.0              142.0               54.0   \n",
       "4                   523.0              165.0               85.0   \n",
       "\n",
       "sample  ENSG00000281649.1  disease  \n",
       "0                  2765.0       PT  \n",
       "1                  3472.0       PT  \n",
       "2                  2484.0       PT  \n",
       "3                  3813.0       PT  \n",
       "4                  2676.0       PT  \n",
       "\n",
       "[5 rows x 14349 columns]"
      ]
     },
     "execution_count": 117,
     "metadata": {},
     "output_type": "execute_result"
    }
   ],
   "source": [
    "data.head()"
   ]
  },
  {
   "cell_type": "code",
   "execution_count": 149,
   "metadata": {},
   "outputs": [
    {
     "data": {
      "text/plain": [
       "(544, 14349)"
      ]
     },
     "execution_count": 149,
     "metadata": {},
     "output_type": "execute_result"
    }
   ],
   "source": [
    "data.shape"
   ]
  },
  {
   "cell_type": "markdown",
   "metadata": {},
   "source": [
    "We have 500 PT + 44 TN = 544 samples and 14349 - 1 = 14348 genes as features (the last column is the patient's disease status)."
   ]
  },
  {
   "cell_type": "markdown",
   "metadata": {},
   "source": [
    "# Before Normalizing, Show PCA for Raw Data"
   ]
  },
  {
   "cell_type": "code",
   "execution_count": 180,
   "metadata": {},
   "outputs": [],
   "source": [
    "# produce X and y\n",
    "matrix = data.loc[:, data.columns != 'disease'].to_numpy()\n",
    "# 0 for PT and 1 for TN\n",
    "labels = data['disease'].astype('category').cat.codes"
   ]
  },
  {
   "cell_type": "code",
   "execution_count": 202,
   "metadata": {},
   "outputs": [],
   "source": [
    "def visualize_2d(X_2d, y, title):\n",
    "    target_ids = range(2)\n",
    "    fig = plt.figure(figsize=(14, 6))\n",
    "    for i, c, label in zip(target_ids, 'rgbcmykw', ['PT', 'TN']):\n",
    "        plt.scatter(X_2d[y == i, 0], X_2d[y == i, 1],\n",
    "                   c=c, label=label)\n",
    "    plt.legend()\n",
    "    plt.title(title)\n",
    "    plt.show()"
   ]
  },
  {
   "cell_type": "code",
   "execution_count": 203,
   "metadata": {},
   "outputs": [
    {
     "data": {
      "image/png": "[encoded data removed]",
      "text/plain": [
       "<Figure size 1008x432 with 1 Axes>"
      ]
     },
     "metadata": {
      "needs_background": "light"
     },
     "output_type": "display_data"
    }
   ],
   "source": [
    "matrix_pca = PCA(n_components=2).fit_transform(matrix)\n",
    "visualize_2d(matrix_pca, labels, 'PCA on Raw Data')"
   ]
  },
  {
   "cell_type": "markdown",
   "metadata": {},
   "source": [
    "# Normalizing Counts"
   ]
  },
  {
   "cell_type": "code",
   "execution_count": 191,
   "metadata": {},
   "outputs": [],
   "source": [
    "normalized = Normalizer().fit_transform(matrix)"
   ]
  },
  {
   "cell_type": "code",
   "execution_count": 192,
   "metadata": {},
   "outputs": [
    {
     "data": {
      "image/png": "[encoded data removed]",
      "text/plain": [
       "<Figure size 1008x432 with 1 Axes>"
      ]
     },
     "metadata": {
      "needs_background": "light"
     },
     "output_type": "display_data"
    }
   ],
   "source": [
    "visualize_2d(normalized, labels, PCA, 'PCA on Normalized Data')"
   ]
  },
  {
   "cell_type": "code",
   "execution_count": null,
   "metadata": {},
   "outputs": [],
   "source": [
    "visualize_2d(normalized, labels, TSNE, 't-SNE on Normalized Data')"
   ]
  },
  {
   "cell_type": "markdown",
   "metadata": {},
   "source": [
    "We observe that the normalized data seems more separable than the raw data."
   ]
  },
  {
   "cell_type": "markdown",
   "metadata": {},
   "source": [
    "# K-Means Clustering on Normalized Data"
   ]
  },
  {
   "cell_type": "code",
   "execution_count": 148,
   "metadata": {},
   "outputs": [],
   "source": [
    "kmeans = KMeans(n_clusters=2, random_state=0).fit(normalized)"
   ]
  },
  {
   "cell_type": "code",
   "execution_count": null,
   "metadata": {},
   "outputs": [],
   "source": []
  }
 ],
 "metadata": {
  "kernelspec": {
   "display_name": "Python 3",
   "language": "python",
   "name": "python3"
  },
  "language_info": {
   "codemirror_mode": {
    "name": "ipython",
    "version": 3
   },
   "file_extension": ".py",
   "mimetype": "text/x-python",
   "name": "python",
   "nbconvert_exporter": "python",
   "pygments_lexer": "ipython3",
   "version": "3.5.2"
  }
 },
 "nbformat": 4,
 "nbformat_minor": 4
}
