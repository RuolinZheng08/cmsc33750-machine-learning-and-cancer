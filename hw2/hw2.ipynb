{
 "cells": [
  {
   "cell_type": "markdown",
   "metadata": {},
   "source": [
    "# RNA-Seq Clustering"
   ]
  },
  {
   "cell_type": "markdown",
   "metadata": {},
   "source": [
    "## Getting Data from GDC\n",
    "\n",
    "I used two different queries to look up files for TP and NT on GDC (advanced search), added the files to cart, and downloaded separate manifest files for TP and NT. There are 500 files in the TP manifest and 44 files in the NT manifest.\n",
    "\n",
    "The two queries differ in that the first specified `cases.samples.sample_type in [\"primary tumor\"]` and the second `cases.samples.sample_type in [\"solid tissue normal\"]`.\n",
    "\n",
    "The main body of the query is the same as what I used in HW1:\n",
    "```\n",
    "cases.project.project_id in [\"TCGA-HNSC\"] and files.analysis.workflow_type in [\"HTSeq - Counts\"] and files.data_category in [\"transcriptome profiling\"] and files.experimental_strategy in [\"RNA-Seq\"]\n",
    "```\n",
    "\n",
    "I then extracted the UUIDs from the manifest file, constructed a JSON request body, and made a POST request to GDC using curl to download the files. The API endpoint for downloading files is `https://api.gdc.cancer.gov/data`. The download took about 5 minutes and has about 160 MB.\n",
    "\n",
    "I put PT `htseq.counts` data into `data/primary_tumor/` and NT data into `data/solid_tissue_normal/`."
   ]
  },
  {
   "cell_type": "code",
   "execution_count": 14,
   "metadata": {},
   "outputs": [],
   "source": [
    "import json\n",
    "import numpy as np"
   ]
  },
  {
   "cell_type": "code",
   "execution_count": 21,
   "metadata": {},
   "outputs": [],
   "source": [
    "def write_json_file(manifest):\n",
    "    with open(manifest, 'rt') as f:\n",
    "        lines = f.readlines()[1:]\n",
    "    uuids = [line.split('\\t')[0] for line in lines]\n",
    "    jso = {'ids': uuids}\n",
    "    jso_fname = manifest.split('.manifest.txt')[0] + '.json'\n",
    "    with open(jso_fname, 'wt') as f:\n",
    "        json.dump(jso, f)"
   ]
  },
  {
   "cell_type": "markdown",
   "metadata": {},
   "source": [
    "After executing the lines below, I commented them out."
   ]
  },
  {
   "cell_type": "code",
   "execution_count": 22,
   "metadata": {},
   "outputs": [],
   "source": [
    "# write_json_file('data/primary_tumor.manifest.txt')\n",
    "# write_json_file('data/solid_tissue_normal.manifest.txt')"
   ]
  },
  {
   "cell_type": "code",
   "execution_count": 24,
   "metadata": {},
   "outputs": [
    {
     "name": "stdout",
     "output_type": "stream",
     "text": [
      "  % Total    % Received % Xferd  Average Speed   Time    Time     Time  Current\n",
      "                                 Dload  Upload   Total   Spent    Left  Speed\n",
      "100  119M    0  119M  100 20009   312k     51  0:06:32  0:06:29  0:00:03  303k:37  0:00:37 --:--:--  254k00 20009   188k    308  0:01:04  0:01:04 --:--:--  251k5M  100 20009   304k     59  0:05:39  0:05:35  0:00:04  137k\n",
      "curl: Saved to filename 'gdc_download_20201014_205700.202302.tar.gz'\n"
     ]
    }
   ],
   "source": [
    "# !curl --remote-name --remote-header-name \\\n",
    "# --request POST --header 'Content-Type: application/json' \\\n",
    "# --data @data/primary_tumor.json 'https://api.gdc.cancer.gov/data'"
   ]
  },
  {
   "cell_type": "code",
   "execution_count": 25,
   "metadata": {
    "scrolled": true
   },
   "outputs": [
    {
     "name": "stdout",
     "output_type": "stream",
     "text": [
      "  % Total    % Received % Xferd  Average Speed   Time    Time     Time  Current\n",
      "                                 Dload  Upload   Total   Spent    Left  Speed\n",
      "100 10.4M    0 10.4M  100  1769   234k     38  0:00:46  0:00:45  0:00:01  240k0  1769  99892    442  0:00:04  0:00:04 --:--:-- 99920\n",
      "curl: Saved to filename 'gdc_download_20201014_210309.859494.tar.gz'\n"
     ]
    }
   ],
   "source": [
    "# !curl --remote-name --remote-header-name \\\n",
    "# --request POST --header 'Content-Type: application/json' \\\n",
    "# --data @data/solid_tissue_normal.json 'https://api.gdc.cancer.gov/data'"
   ]
  },
  {
   "cell_type": "markdown",
   "metadata": {},
   "source": []
  },
  {
   "cell_type": "code",
   "execution_count": null,
   "metadata": {},
   "outputs": [],
   "source": [
    "with open('data/primary_tumor.manifest.txt', 'rt') as f:\n",
    "with open('data/primar_tumor.json', 'wt') as out:"
   ]
  },
  {
   "cell_type": "code",
   "execution_count": null,
   "metadata": {},
   "outputs": [],
   "source": []
  }
 ],
 "metadata": {
  "kernelspec": {
   "display_name": "Python 3",
   "language": "python",
   "name": "python3"
  },
  "language_info": {
   "codemirror_mode": {
    "name": "ipython",
    "version": 3
   },
   "file_extension": ".py",
   "mimetype": "text/x-python",
   "name": "python",
   "nbconvert_exporter": "python",
   "pygments_lexer": "ipython3",
   "version": "3.5.2"
  }
 },
 "nbformat": 4,
 "nbformat_minor": 4
}
